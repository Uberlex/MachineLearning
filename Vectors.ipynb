{
 "cells": [
  {
   "cell_type": "code",
   "execution_count": 5,
   "id": "tropical-purpose",
   "metadata": {},
   "outputs": [
    {
     "name": "stdout",
     "output_type": "stream",
     "text": [
      "1.19.5\n"
     ]
    }
   ],
   "source": [
    "import numpy as np\n",
    "print(np.version.version)\n",
    "\n",
    "# Module used for plotting points\n",
    "import matplotlib.pyplot as plt"
   ]
  },
  {
   "cell_type": "markdown",
   "id": "trained-frederick",
   "metadata": {},
   "source": [
    "# **Vectors**\n",
    "---"
   ]
  },
  {
   "cell_type": "markdown",
   "id": "interpreted-pavilion",
   "metadata": {},
   "source": [
    "Definition: Coordinates subject to change within a function or measurement of distance\n",
    "- An array or list of numbers"
   ]
  },
  {
   "cell_type": "markdown",
   "id": "subsequent-toyota",
   "metadata": {},
   "source": [
    "## **Magnitude**\n",
    "---"
   ]
  },
  {
   "cell_type": "markdown",
   "id": "provincial-source",
   "metadata": {},
   "source": [
    "Definition: Length of the vector which is denoted $|\\mathbf{u}\\|$.\n",
    "- Determined using Euclidean norm\n",
    "    - ex: $\\mathbf{u} = \\langle u_1, u_2, u_3, ..., u_n \\rangle$\n",
    "    - Formula: $$|\\mathbf{u}| = \\sqrt{ u_1^2 + u_2^2 + u_3^2 + ... + u_n^2}$$"
   ]
  },
  {
   "cell_type": "code",
   "execution_count": 6,
   "id": "limiting-insurance",
   "metadata": {},
   "outputs": [
    {
     "data": {
      "text/plain": [
       "1.4142135623730951"
      ]
     },
     "execution_count": 6,
     "metadata": {},
     "output_type": "execute_result"
    }
   ],
   "source": [
    "# Assigning the variable\n",
    "u = np.array([[1,1]])\n",
    "\n",
    "# Find the magnitude\n",
    "np.linalg.norm(u)"
   ]
  },
  {
   "cell_type": "markdown",
   "id": "apparent-colleague",
   "metadata": {},
   "source": [
    "## **Distance**\n",
    "---"
   ]
  },
  {
   "cell_type": "markdown",
   "id": "twelve-skiing",
   "metadata": {},
   "source": [
    "Measurement of space or length between two points\n",
    "- Formula: Pythagorean Theorem\n",
    "    - $a^2 + b^2 = c^2$\n",
    "    - $c = \\sqrt(a^2 + b^2)$ <- Euclidean distance\n",
    "- Displacement horizontally and vertically and determination of both points via right angle trajectories; hence utilization of pythagorean theorem"
   ]
  },
  {
   "cell_type": "markdown",
   "id": "underlying-focus",
   "metadata": {},
   "source": [
    "## **Row Vectors**\n",
    "---"
   ]
  },
  {
   "cell_type": "markdown",
   "id": "alleged-shade",
   "metadata": {},
   "source": [
    "**Definition:** $1 \\times n$ dimensional matrix\n",
    "- Interpreting angle notation\n",
    "- Horizontal movement between points"
   ]
  },
  {
   "cell_type": "code",
   "execution_count": 7,
   "id": "directed-spring",
   "metadata": {},
   "outputs": [
    {
     "name": "stdout",
     "output_type": "stream",
     "text": [
      "[[1 3]]\n",
      "(1, 2)\n"
     ]
    }
   ],
   "source": [
    "# Row vector as a graphical coordinate\n",
    "x = np.array ([[1,3]])\n",
    "print(x)\n",
    "\n",
    "# Identification of shape\n",
    "print(np.shape(x))"
   ]
  },
  {
   "cell_type": "markdown",
   "id": "challenging-grace",
   "metadata": {},
   "source": [
    "## **Column Vectors**\n",
    "---"
   ]
  },
  {
   "cell_type": "markdown",
   "id": "collaborative-franklin",
   "metadata": {},
   "source": [
    "Definition: $n \\times 1$ dimensional matrix\n",
    "- Vertical movement between points "
   ]
  },
  {
   "cell_type": "code",
   "execution_count": 8,
   "id": "comparable-component",
   "metadata": {},
   "outputs": [
    {
     "name": "stdout",
     "output_type": "stream",
     "text": [
      "[[1]\n",
      " [3]]\n",
      "(2, 1)\n"
     ]
    }
   ],
   "source": [
    "# Column vector as a grphical coordinate\n",
    "y = np.array ([[1],[3]])\n",
    "print(y)\n",
    "\n",
    "# Identification of shape\n",
    "print(np.shape(y))"
   ]
  },
  {
   "cell_type": "markdown",
   "id": "brief-discount",
   "metadata": {},
   "source": [
    "## **Vector Operations**\n",
    "---"
   ]
  },
  {
   "cell_type": "markdown",
   "id": "opening-legislature",
   "metadata": {},
   "source": [
    "**Scalar multiplication vs. Vector Addition**\n",
    "- Operationally the same\n",
    "- Both represented using matrix entries"
   ]
  },
  {
   "cell_type": "markdown",
   "id": "reflected-bahrain",
   "metadata": {},
   "source": [
    "**Vector Addition**: \n",
    "- ex: $V$ represents the matrix where each row is one vector to plot"
   ]
  },
  {
   "cell_type": "code",
   "execution_count": 19,
   "id": "parental-marble",
   "metadata": {},
   "outputs": [],
   "source": [
    "# Assign horizontal feature a grphical coordinate\n",
    "x = np.array([1,-2])\n",
    "y = np.array([0,1])\n",
    "\n",
    "# Arrange all vectors into an array \n",
    "V = np.array([x, y, x + y])"
   ]
  },
  {
   "cell_type": "markdown",
   "id": "thirty-channels",
   "metadata": {},
   "source": [
    "- Final Matrix: $$V = \\begin{bmatrix} 1 & -2 \\\\ 0 & 1 \\\\ 1 & -1 \\end{bmatrix}$$"
   ]
  },
  {
   "cell_type": "code",
   "execution_count": 18,
   "id": "copyrighted-variety",
   "metadata": {},
   "outputs": [
    {
     "data": {
      "image/png": "[encoded data removed]",
      "text/plain": [
       "<Figure size 432x288 with 1 Axes>"
      ]
     },
     "metadata": {},
     "output_type": "display_data"
    }
   ],
   "source": [
    "fig, ax = plt.subplots() # Create a figure and a set of subplots.\n",
    "\n",
    "## the * is for unpacking the container origin. https://medium.com/understand-the-python/understanding-the-asterisk-of-python-8b9daaa4a558\n",
    "plt.quiver(V[0,0], V[0,1], color=['r'], scale = 10) # <class 'matplotlib.quiver.Quiver'>\n",
    "plt.quiver(V[1,0], V[1,1], color=['b'], scale = 10) # <class 'matplotlib.quiver.Quiver'>\n",
    "plt.quiver(V[2,0], V[2,1], color=['g'], scale = 10) # <class 'matplotlib.quiver.Quiver'>\n",
    "ax.tick_params(labelbottom=False, labelleft =False) # Remove the labels on the axes.\n",
    "plt.show() # Show the plot."
   ]
  },
  {
   "cell_type": "markdown",
   "id": "caring-viking",
   "metadata": {},
   "source": [
    "**Scalar Multiplication:** Scaling vectors and determining the amount of times their representing lines are interacted with.\n",
    "- Multiplication by negativ:e flips line over\n",
    "    - ex: 5<3,2> = <15,10> **<- Distributive Property**\n",
    "- Multiplication by number greater than 1: stretches the line\n",
    "- Multiplication by 0: creates new points\n",
    "- Multiplication between 0 and 1: shrinks the line\n",
    "    - ex: $1/2<3,2> = <3/2, 1>$"
   ]
  },
  {
   "cell_type": "code",
   "execution_count": 16,
   "id": "assisted-browser",
   "metadata": {},
   "outputs": [
    {
     "data": {
      "image/png": "[encoded data removed]",
      "text/plain": [
       "<Figure size 432x288 with 1 Axes>"
      ]
     },
     "metadata": {},
     "output_type": "display_data"
    }
   ],
   "source": [
    "# Vector to scale\n",
    "r = np.array([1,1])\n",
    "\n",
    "# Arrange all vectors into an array\n",
    "V = np.array([r,3 * r, -2 * r])\n",
    "\n",
    "# Create a graph and subplots\n",
    "fig, ax = plt.subplots()\n",
    "\n",
    "plt.quiver(V[0,0], V[0,1], color=['r'], scale = 10) # <class 'matplotlib.quiver.Quiver'>\n",
    "plt.quiver(V[1,0], V[1,1], color=['b'], scale = 10) # <class 'matplotlib.quiver.Quiver'>\n",
    "plt.quiver(V[2,0], V[2,1], color=['g'], scale = 10) # <class 'matplotlib.quiver.Quiver'>\n",
    "\n",
    "ax.tick_params(labelbottom=False, labelleft =False) # Remove the labels on the axes.\n",
    "plt.show() # Show the plot."
   ]
  },
  {
   "cell_type": "code",
   "execution_count": null,
   "id": "lesser-litigation",
   "metadata": {},
   "outputs": [],
   "source": []
  },
  {
   "cell_type": "code",
   "execution_count": null,
   "id": "minute-hebrew",
   "metadata": {},
   "outputs": [],
   "source": []
  }
 ],
 "metadata": {
  "kernelspec": {
   "display_name": "Python 3",
   "language": "python",
   "name": "python3"
  },
  "language_info": {
   "codemirror_mode": {
    "name": "ipython",
    "version": 3
   },
   "file_extension": ".py",
   "mimetype": "text/x-python",
   "name": "python",
   "nbconvert_exporter": "python",
   "pygments_lexer": "ipython3",
   "version": "3.6.9"
  }
 },
 "nbformat": 4,
 "nbformat_minor": 5
}
