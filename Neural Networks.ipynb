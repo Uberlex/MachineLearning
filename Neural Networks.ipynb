{
 "cells": [
  {
   "cell_type": "markdown",
   "id": "local-funds",
   "metadata": {},
   "source": [
    "# **Neural Networks**\n",
    "---"
   ]
  },
  {
   "cell_type": "markdown",
   "id": "danish-folks",
   "metadata": {},
   "source": [
    "History\n",
    "- 1763: Bayes' Theroem; 'An Essay towards solving a Problem in the Doctrine of Chances'\n",
    "\n",
    "- 1970 - 1980: Winter of Artificial Intelligence; Neural Networks unable to solve more complex tasks due to missing mathematical components\n",
    "    - 1971: DARPA's discontinuation of A.I research due to Carnegie Mellon University failures of related projects\n",
    "    - 1973: A.I research mothballed in U.K from Lighthill Report\n",
    "        - Perceptrons cannot execute XOR logic gates\n",
    "        - Proclamation of impossibility\n",
    "            - \"A.I can never advance\"\n",
    "\n",
    "- 1980s: Failure of the single layer perceptron \n",
    "    - Information embedded in x1 and x2; sequel length and sequel width\n",
    "    - Creation of a new value from combined implemented features\n",
    "    - Linear combination: $x_1$$w_1$ + $x_2$$w_2$ = Z\n",
    "    - Linear \n",
    "\n",
    "- 1990 - 2000: Machine Learning retask from pursuing conceptual problems to scenarios and problems based on user-provided data\n",
    "\n",
    "- 1997: IBM's Deep Blue wins against Chess Grandmaster Gary Kasperov\n",
    "\n",
    "- 2006: Netflex Prixe; Collection of all animal classification images by Netflix\n",
    "\n",
    "-  2009: University of Toronto \n",
    "\n",
    "- 2016: Google's AlphaGo becomes the first A.I. player to beat a professional human player at Go\n",
    "\n",
    "- 2021: Protein Structure Prediction: Teaching A.I to fold proteins on command; AlphaFold is currently still being built"
   ]
  },
  {
   "cell_type": "markdown",
   "id": "exciting-suspension",
   "metadata": {},
   "source": [
    "### ***Logic Gates***\n",
    "---"
   ]
  },
  {
   "cell_type": "markdown",
   "id": "combined-recruitment",
   "metadata": {},
   "source": [
    "Definition: "
   ]
  },
  {
   "cell_type": "markdown",
   "id": "laughing-twelve",
   "metadata": {},
   "source": [
    "- 1950s - 1960s: Flipping bits and converting machine language (1's and 0's into data to solve a problem)\n",
    "    - The ability to execute logic\n",
    "    - On or off; yes or no; true or false\n",
    "    - Using AND gates\n",
    "        - Both transistors must be open for an electric charge to reach 'x' to carry out the instructions\n",
    "\n",
    "- NAND"
   ]
  }
 ],
 "metadata": {
  "kernelspec": {
   "display_name": "Python 3",
   "language": "python",
   "name": "python3"
  },
  "language_info": {
   "codemirror_mode": {
    "name": "ipython",
    "version": 3
   },
   "file_extension": ".py",
   "mimetype": "text/x-python",
   "name": "python",
   "nbconvert_exporter": "python",
   "pygments_lexer": "ipython3",
   "version": "3.6.9"
  }
 },
 "nbformat": 4,
 "nbformat_minor": 5
}
