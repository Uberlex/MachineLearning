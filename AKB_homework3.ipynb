{
 "cells": [
  {
   "cell_type": "markdown",
   "id": "plain-decrease",
   "metadata": {},
   "source": [
    "# **Homework 3**\n",
    "---"
   ]
  },
  {
   "cell_type": "markdown",
   "id": "critical-anime",
   "metadata": {},
   "source": [
    "## **Import the necessary tools**\n",
    "---"
   ]
  },
  {
   "cell_type": "code",
   "execution_count": 1,
   "id": "trying-indianapolis",
   "metadata": {},
   "outputs": [],
   "source": [
    "import numpy as np                                       # Importing numpy tools\n",
    "import pandas as pd                                      # Used for importing data\n",
    "import matplotlib.pyplot as plt                          # Creating scatter plots\n",
    "import seaborn as sns\n",
    "from mpl_toolkits import mplot3d                         # Importing tools to create graphs with the z-axis without breaking\n",
    "from sklearn.linear_model import LinearRegression        # Use sklearn to depict line of best fit\n",
    "from sklearn.metrics import mean_squared_error, r2_score # Visualization of Mean Squared Error \n",
    "from tqdm import tqdm                                    # Showing a progress bar to visualize a far a program is in running it's contents\n",
    "from math import log                                     # Math tool to read log equations in algebra and in graphs\n",
    "from math import exp"
   ]
  },
  {
   "cell_type": "markdown",
   "id": "prospective-sentence",
   "metadata": {},
   "source": [
    "---"
   ]
  },
  {
   "cell_type": "markdown",
   "id": "secure-tulsa",
   "metadata": {},
   "source": [
    "## **Import the Datasets and turn them into arrays**\n",
    "---"
   ]
  },
  {
   "cell_type": "code",
   "execution_count": 2,
   "id": "graduate-geneva",
   "metadata": {},
   "outputs": [],
   "source": [
    "Data1 = np.array(pd.read_csv('~/Files/Data/Scatter_Data_HW3/scatter_HW3_set_1.csv')) # Import the first dataset"
   ]
  },
  {
   "cell_type": "code",
   "execution_count": 3,
   "id": "superb-trout",
   "metadata": {},
   "outputs": [],
   "source": [
    "Data2 = np.array(pd.read_csv('~/Files/Data/Scatter_Data_HW3/scatter_HW3_set_2.csv')) # Import the second dataset"
   ]
  },
  {
   "cell_type": "code",
   "execution_count": 4,
   "id": "acknowledged-posting",
   "metadata": {},
   "outputs": [],
   "source": [
    "Data3 = np.array(pd.read_csv('~/Files/Data/Scatter_Data_HW3/scatter_HW3_set_3.csv')) # Import the third dataset"
   ]
  },
  {
   "cell_type": "markdown",
   "id": "rotary-fault",
   "metadata": {},
   "source": [
    "---"
   ]
  },
  {
   "cell_type": "markdown",
   "id": "trying-truck",
   "metadata": {},
   "source": [
    "## **Graphing the Data Individually**\n",
    "---"
   ]
  },
  {
   "cell_type": "markdown",
   "id": "existing-dispatch",
   "metadata": {},
   "source": [
    "### ***Graph Scatter Data Set 1***\n",
    "---\n",
    "Not all datasets will have more than one feature to visualize. For this reason, the creation of a new column becomes necessary. There is no new column to the actual data being imported. But it will add itself in relevance to wherever the data is placed on the graph.\n",
    "\n",
    "---"
   ]
  },
  {
   "cell_type": "code",
   "execution_count": 5,
   "id": "continent-biology",
   "metadata": {},
   "outputs": [
    {
     "data": {
      "image/png": "[encoded data removed]",
      "text/plain": [
       "<Figure size 432x288 with 1 Axes>"
      ]
     },
     "metadata": {
      "needs_background": "light"
     },
     "output_type": "display_data"
    }
   ],
   "source": [
    "# Creating time-variable relating to the data in the order that it came.\n",
    "\n",
    "t1 = np.arange(0,len(Data1)) # t1 = time-variable\n",
    "plt.scatter(t1, Data1)       # x-axis = t1, y-axis = imported data\n",
    "plt.show()                   # Display the final result\n",
    "\n",
    "                             # Time-variable: Placeholder column on the graph typically used for changes in the data over time. "
   ]
  },
  {
   "cell_type": "markdown",
   "id": "dimensional-platinum",
   "metadata": {},
   "source": [
    "---"
   ]
  },
  {
   "cell_type": "markdown",
   "id": "thousand-universal",
   "metadata": {},
   "source": [
    "### ***Graph Scatter Data Set 2***\n",
    "---"
   ]
  },
  {
   "cell_type": "code",
   "execution_count": 6,
   "id": "outside-crash",
   "metadata": {},
   "outputs": [
    {
     "data": {
      "image/png": "[encoded data removed]",
      "text/plain": [
       "<Figure size 432x288 with 1 Axes>"
      ]
     },
     "metadata": {
      "needs_background": "light"
     },
     "output_type": "display_data"
    }
   ],
   "source": [
    "t2 = np.arange(0,len(Data2)) # From zero, to however long the data is\n",
    "plt.scatter(t2,Data2)        # \n",
    "plt.show()"
   ]
  },
  {
   "cell_type": "markdown",
   "id": "suited-template",
   "metadata": {},
   "source": [
    "---"
   ]
  },
  {
   "cell_type": "markdown",
   "id": "instrumental-dictionary",
   "metadata": {},
   "source": [
    "### ***Graph Scatter Data Set 3***\n",
    "---"
   ]
  },
  {
   "cell_type": "code",
   "execution_count": 7,
   "id": "internal-citation",
   "metadata": {},
   "outputs": [
    {
     "data": {
      "image/png": "[encoded data removed]",
      "text/plain": [
       "<Figure size 432x288 with 1 Axes>"
      ]
     },
     "metadata": {
      "needs_background": "light"
     },
     "output_type": "display_data"
    }
   ],
   "source": [
    "t3 = np.arange(0,len(Data3))\n",
    "plt.scatter(t3,Data3)\n",
    "plt.show()"
   ]
  },
  {
   "cell_type": "markdown",
   "id": "heated-dimension",
   "metadata": {},
   "source": [
    "---"
   ]
  },
  {
   "cell_type": "markdown",
   "id": "brazilian-michael",
   "metadata": {},
   "source": [
    "## **Time-variable Reshapes**\n",
    "---\n",
    "The initial shape of a dataset indicates the number of rows and columns. However, if the data as an array is measured from -1 to 1 rather than 0 to 1, then reshaping the data to compensate for the new range becomes necessary. That way, the data is compatible with models it must fit into for both visualization and scoring.\n",
    "\n",
    "Time variables are not automatically attuned to fit with the imported data. Therefore, the reshape command must be applied so it can match the dataset's shape and properly measure line accuracy\n",
    "\n",
    "---"
   ]
  },
  {
   "cell_type": "markdown",
   "id": "piano-screw",
   "metadata": {},
   "source": [
    "### ***Shape t1***\n",
    "---"
   ]
  },
  {
   "cell_type": "code",
   "execution_count": 8,
   "id": "rolled-receptor",
   "metadata": {},
   "outputs": [
    {
     "data": {
      "text/plain": [
       "(29,)"
      ]
     },
     "execution_count": 8,
     "metadata": {},
     "output_type": "execute_result"
    }
   ],
   "source": [
    "# Initial shape of t1\n",
    "np.shape(t1)                  # 1 column and 29 rows"
   ]
  },
  {
   "cell_type": "code",
   "execution_count": 9,
   "id": "determined-birth",
   "metadata": {},
   "outputs": [],
   "source": [
    "# Saving the new shape of the data to a new variable\n",
    "t1 = np.reshape(t1,(29,1))    # Statement of t1's new shape"
   ]
  },
  {
   "cell_type": "code",
   "execution_count": 10,
   "id": "fitting-franklin",
   "metadata": {},
   "outputs": [
    {
     "data": {
      "text/plain": [
       "(29, 1)"
      ]
     },
     "execution_count": 10,
     "metadata": {},
     "output_type": "execute_result"
    }
   ],
   "source": [
    "np.shape(t1)                  # Display new shape of t1"
   ]
  },
  {
   "cell_type": "markdown",
   "id": "recent-danish",
   "metadata": {},
   "source": [
    "---"
   ]
  },
  {
   "cell_type": "markdown",
   "id": "guilty-fetish",
   "metadata": {},
   "source": [
    "### ***Shape t2***\n",
    "---"
   ]
  },
  {
   "cell_type": "code",
   "execution_count": 11,
   "id": "purple-economics",
   "metadata": {},
   "outputs": [
    {
     "data": {
      "text/plain": [
       "(29,)"
      ]
     },
     "execution_count": 11,
     "metadata": {},
     "output_type": "execute_result"
    }
   ],
   "source": [
    "# Initial shape of t2\n",
    "np.shape(t2)                  # 1 column and 29 rows"
   ]
  },
  {
   "cell_type": "code",
   "execution_count": 12,
   "id": "statistical-composition",
   "metadata": {},
   "outputs": [],
   "source": [
    "t2 = np.reshape(t2,(29,1))    # Display the new shape of t2"
   ]
  },
  {
   "cell_type": "code",
   "execution_count": 13,
   "id": "chicken-conspiracy",
   "metadata": {},
   "outputs": [
    {
     "data": {
      "text/plain": [
       "(29, 1)"
      ]
     },
     "execution_count": 13,
     "metadata": {},
     "output_type": "execute_result"
    }
   ],
   "source": [
    "np.shape(t2)                  # Display the new shape of t2"
   ]
  },
  {
   "cell_type": "markdown",
   "id": "wired-description",
   "metadata": {},
   "source": [
    "---"
   ]
  },
  {
   "cell_type": "markdown",
   "id": "controversial-manufacturer",
   "metadata": {},
   "source": [
    "### ***Shape t3***\n",
    "---"
   ]
  },
  {
   "cell_type": "code",
   "execution_count": 14,
   "id": "bottom-message",
   "metadata": {},
   "outputs": [
    {
     "data": {
      "text/plain": [
       "(29,)"
      ]
     },
     "execution_count": 14,
     "metadata": {},
     "output_type": "execute_result"
    }
   ],
   "source": [
    "np.shape(t3)                  # 1 column and 29 rows"
   ]
  },
  {
   "cell_type": "code",
   "execution_count": 15,
   "id": "narrow-luxembourg",
   "metadata": {},
   "outputs": [],
   "source": [
    "t3 = np.reshape(t3,(29,1))       # Statement t3's new shape"
   ]
  },
  {
   "cell_type": "code",
   "execution_count": 16,
   "id": "boring-montgomery",
   "metadata": {},
   "outputs": [
    {
     "data": {
      "text/plain": [
       "(29, 1)"
      ]
     },
     "execution_count": 16,
     "metadata": {},
     "output_type": "execute_result"
    }
   ],
   "source": [
    "np.shape(t3)                  # Display the new shape of t3"
   ]
  },
  {
   "cell_type": "markdown",
   "id": "reasonable-sunglasses",
   "metadata": {},
   "source": [
    "---"
   ]
  },
  {
   "cell_type": "markdown",
   "id": "vulnerable-surrey",
   "metadata": {},
   "source": [
    "## **Interpreting Line Accuracy in Relevance to a perfect line**\n",
    "---\n",
    "With SKLearn, data visualizations in the form of scatter graphs can be evaluated to determine just how linear they are. The scale, known as the coefficient of determination is measured from a range 1.0 for the best possible alignment, to 0, which indicates the worst possible alignment.\n",
    "\n",
    "---"
   ]
  },
  {
   "cell_type": "markdown",
   "id": "technological-invalid",
   "metadata": {},
   "source": [
    "### ***Scoring Graph 1***\n",
    "---"
   ]
  },
  {
   "cell_type": "code",
   "execution_count": 17,
   "id": "anticipated-firmware",
   "metadata": {},
   "outputs": [
    {
     "data": {
      "text/plain": [
       "0.5698861405105139"
      ]
     },
     "execution_count": 17,
     "metadata": {},
     "output_type": "execute_result"
    }
   ],
   "source": [
    "reg = LinearRegression().fit(t1, Data1) # Apply Linear Regression Formula to the t1, Data1 graph \n",
    "reg.score(t1, Data1)                   # Display final line accuracy score"
   ]
  },
  {
   "cell_type": "markdown",
   "id": "exciting-system",
   "metadata": {},
   "source": [
    "- A line is barely visible within the data points of the graph."
   ]
  },
  {
   "cell_type": "markdown",
   "id": "olive-religious",
   "metadata": {},
   "source": [
    "---"
   ]
  },
  {
   "cell_type": "markdown",
   "id": "invalid-orientation",
   "metadata": {},
   "source": [
    "### ***Scoring Graph 2***\n",
    "---"
   ]
  },
  {
   "cell_type": "code",
   "execution_count": 18,
   "id": "cleared-speaker",
   "metadata": {},
   "outputs": [
    {
     "data": {
      "text/plain": [
       "0.24379399107472566"
      ]
     },
     "execution_count": 18,
     "metadata": {},
     "output_type": "execute_result"
    }
   ],
   "source": [
    "reg = LinearRegression().fit(t2, Data2) # Apply Linear Regression Forumula to the t2, Data2 graph\n",
    "reg.score(t2, Data2)                    # Display final line accuracy score"
   ]
  },
  {
   "cell_type": "markdown",
   "id": "reduced-associate",
   "metadata": {},
   "source": [
    "- There is little to no line correlation between Data2 and t2."
   ]
  },
  {
   "cell_type": "markdown",
   "id": "grand-french",
   "metadata": {},
   "source": [
    "---"
   ]
  },
  {
   "cell_type": "markdown",
   "id": "annual-steps",
   "metadata": {},
   "source": [
    "### ***Scoring Graph 3***\n",
    "---"
   ]
  },
  {
   "cell_type": "code",
   "execution_count": 19,
   "id": "improved-detector",
   "metadata": {},
   "outputs": [
    {
     "data": {
      "text/plain": [
       "0.9655322293038338"
      ]
     },
     "execution_count": 19,
     "metadata": {},
     "output_type": "execute_result"
    }
   ],
   "source": [
    "reg = LinearRegression().fit(t3,Data3)\n",
    "reg.score(t3, Data3)"
   ]
  },
  {
   "cell_type": "markdown",
   "id": "chief-oakland",
   "metadata": {},
   "source": [
    "- A near-perfect line of best fit can be made through the data points on the graph."
   ]
  },
  {
   "cell_type": "markdown",
   "id": "respective-collective",
   "metadata": {},
   "source": [
    "---"
   ]
  },
  {
   "cell_type": "markdown",
   "id": "established-intervention",
   "metadata": {},
   "source": [
    "## **Graphing Line of Best Fit for Each Graph**\n",
    "---\n",
    "In the many cases of it's uses. Line of best fit is used to visualize the proportion of a projected data set from an ideal slope or rate of change. In the case of machine learning, a line of best fit is used to determine the linear accuracy of data to be fed to a machine for education, processing, and fulfillment of a certain task. The more data points that pass through the line of best fit, the more constant the learning curve of the machine. In conclusion, a line of best fit is used to visualize the progression of a machine's training when analyzing data. \n",
    "\n",
    "---"
   ]
  },
  {
   "cell_type": "code",
   "execution_count": 28,
   "id": "formed-vinyl",
   "metadata": {},
   "outputs": [],
   "source": [
    "def gradientDescentLinearRegression(dataframe,learning_rate,times):\n",
    "    col_number = dataframe.shape[0]     # Base the number of columns on the structure of the imported data\n",
    "    new_col = np.arange(1,col_number+1) # Which new column, add it to the initial number from the dataframe\n",
    "    dataframe['x'] = new_col            # Set the x-axis to be the updated column number \n",
    "    col_name=['y','x']                  # Arrange the column numbers into a two-dimensional graph\n",
    "    dataframe.columns=col_name          #\n",
    "    temp_cols = dataframe.columns.tolist()\n",
    "    new_cols = temp_cols[-1:] + temp_cols[:-1]\n",
    "    dataframe = dataframe[new_cols]\n",
    "    x = dataframe['x']\n",
    "    y = dataframe['y']\n",
    "    \n",
    "    weight_m = np.random.rand(1)\n",
    "    weight_b = np.random.rand(1)\n",
    "    y_intercept = [weight_b]\n",
    "    slope = [weight_m]\n",
    "    N = len(y)\n",
    "    \n",
    "    for i in tqdm(range(times)):\n",
    "        \n",
    "        prediction = weight_m * x + weight_b\n",
    "        \n",
    "        error = prediction - y\n",
    "        \n",
    "        m = weight_m - learning_rate * (2/N) * (error.sum())\n",
    "        b = weight_b - learning_rate * (2/N) * ((x*error).sum())\n",
    "        \n",
    "        weight_m = m\n",
    "        weight_b = b\n",
    "        y_intercept.append(weight_b)\n",
    "        slope.append(weight_m)\n",
    "        \n",
    "    plt.scatter(dataframe['x'],dataframe['y'])\n",
    "    \n",
    "    plt.plot(x, weight_m * x + weight_b, c = \"r\")\n",
    "    \n",
    "    plt.xlabel(\"x\")\n",
    "    plt.ylabel(\"y\")\n",
    "    \n",
    "    plt.show()"
   ]
  },
  {
   "cell_type": "code",
   "execution_count": 21,
   "id": "acute-terrain",
   "metadata": {},
   "outputs": [
    {
     "data": {
      "image/png": "[encoded data removed]",
      "text/plain": [
       "<Figure size 432x288 with 1 Axes>"
      ]
     },
     "metadata": {
      "needs_background": "light"
     },
     "output_type": "display_data"
    }
   ],
   "source": [
    "linreg1 = LinearRegression().fit(t1, Data1) # Producing the line of best fit in relevance to the time variable with the graph and the dataset assigned to it\n",
    "m1 = reg.coef_                              # Setting the line's slope\n",
    "b1 = reg.intercept_                         # Setting the y-intercept the line will begin from\n",
    "\n",
    "\n",
    "plt.plot(t1, m1 * t1 + b1, c='r')           # Applying the linear equation, y = mx + b to the line of best fit\n",
    "plt.scatter(t1, Data1)                      # Creating the scatter graph\n",
    "plt.show()                                  # Display the final result"
   ]
  },
  {
   "cell_type": "code",
   "execution_count": 26,
   "id": "delayed-orchestra",
   "metadata": {},
   "outputs": [
    {
     "data": {
      "image/png": "[encoded data removed]",
      "text/plain": [
       "<Figure size 432x288 with 1 Axes>"
      ]
     },
     "metadata": {
      "needs_background": "light"
     },
     "output_type": "display_data"
    }
   ],
   "source": [
    "linreg2 = LinearRegression().fit(t2, Data2) # Producing the line of best fit in relevance to the time variable with the graph and the dataset assigned to it\n",
    "m2 = reg.coef_                              # Setting the line's slope\n",
    "b2 = reg.intercept_                         # Setting the y-intercept the line will begin from \n",
    "\n",
    "\n",
    "plt.plot(t2, m2 * t2 + b2, c='r')           # Applying the linear equation, y = mx + b to the line of best fit\n",
    "plt.scatter(t2, Data2)                      # Creating the scatter graph\n",
    "plt.show()                                  # Display the final result"
   ]
  },
  {
   "cell_type": "markdown",
   "id": "aggregate-chick",
   "metadata": {},
   "source": [
    "- The line of best fit does not match the formula rate of change in the graph. The upward curve of the data points appears similar to an exponent. Therefore, the line of best fit must depict a line as close to the ideal rate of change as possible. The formula for exponent slope is $y= x^2$."
   ]
  },
  {
   "cell_type": "code",
   "execution_count": 23,
   "id": "indoor-brunswick",
   "metadata": {},
   "outputs": [
    {
     "data": {
      "image/png": "[encoded data removed]",
      "text/plain": [
       "<Figure size 432x288 with 1 Axes>"
      ]
     },
     "metadata": {
      "needs_background": "light"
     },
     "output_type": "display_data"
    }
   ],
   "source": [
    "linreg3 = LinearRegression().fit(t3, Data3) # Producing the line of best fit in relevance to the time variable with the graph and the dataset assigned to it\n",
    "m3 = reg.coef_                              # Setting the line's slope\n",
    "b3 = reg.intercept_                         # Setting the y-intercept the line will begin from\n",
    "\n",
    "\n",
    "plt.plot(t3, m3 * t3 + b3, c='r')           # Applying the linear equation, y = mx + b to be the line of best fit\n",
    "plt.scatter(t3, Data3)                      # Creating the scatter graph \n",
    "plt.show()                                  # Display the final result"
   ]
  },
  {
   "cell_type": "markdown",
   "id": "capital-poker",
   "metadata": {},
   "source": [
    "- The data depiction in the third graph is in-accurate because the scatter points are supposed to be synonymous with a rate of change caused by the log symbol. However, the curve in the middle of the lines is not entirely visible. Therefore the programmer may register the scatter points to be closer to linear then the other two graphs. "
   ]
  },
  {
   "cell_type": "code",
   "execution_count": 29,
   "id": "fantastic-ending",
   "metadata": {},
   "outputs": [
    {
     "data": {
      "image/png": "[encoded data removed]",
      "text/plain": [
       "<Figure size 432x288 with 1 Axes>"
      ]
     },
     "metadata": {
      "needs_background": "light"
     },
     "output_type": "display_data"
    }
   ],
   "source": [
    "m = reg.coef_\n",
    "b= reg.intercept_\n",
    "\n",
    "plt.plot(t2, np.exp(m*t2 + b), color = \"r\")\n",
    "plt.scatter(t2, Data2)\n",
    "plt.show()"
   ]
  },
  {
   "cell_type": "markdown",
   "id": "sublime-mauritius",
   "metadata": {},
   "source": [
    "---"
   ]
  },
  {
   "cell_type": "code",
   "execution_count": null,
   "id": "lined-regulation",
   "metadata": {},
   "outputs": [],
   "source": []
  }
 ],
 "metadata": {
  "kernelspec": {
   "display_name": "Python 3",
   "language": "python",
   "name": "python3"
  },
  "language_info": {
   "codemirror_mode": {
    "name": "ipython",
    "version": 3
   },
   "file_extension": ".py",
   "mimetype": "text/x-python",
   "name": "python",
   "nbconvert_exporter": "python",
   "pygments_lexer": "ipython3",
   "version": "3.6.9"
  }
 },
 "nbformat": 4,
 "nbformat_minor": 5
}
