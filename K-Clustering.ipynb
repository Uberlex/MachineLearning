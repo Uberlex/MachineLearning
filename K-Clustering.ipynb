{
 "cells": [
  {
   "cell_type": "markdown",
   "id": "recreational-dependence",
   "metadata": {},
   "source": [
    "## *AI's role in DevOps*\n",
    "---\n",
    "Three different monitoring factors\n",
    "- Normal networking traffic\n",
    "- False Positives\n",
    "- Known attacks\n",
    "\n",
    "Simulations\n",
    "- Feed open source attack info to the AI to enhance algorithm\n",
    "    - Recognition of known attacks\n",
    "    - Historical cyber attacks\n",
    "    - Trending malicious activity from other companies\n",
    "- \n",
    "---"
   ]
  },
  {
   "cell_type": "markdown",
   "id": "discrete-literature",
   "metadata": {},
   "source": [
    "## **Unsupervised Data**\n",
    "---\n",
    "Definition: Produced data that has been categorized, labeled, or applied by AI algorithms with no human intervention\n",
    "    - Incredibly valuable\n",
    "        - Idea: Millions of junk files organized into usable data\n",
    "            - Trillion dollar industry\n",
    "    - Using K-Means to preclassify, then KNN to approximate nearby data points\n",
    "    - Highly expensive and complex"
   ]
  },
  {
   "cell_type": "markdown",
   "id": "outside-vegetable",
   "metadata": {},
   "source": [
    "## **K- Clustering**\n",
    "---\n",
    "Definition: Using a center of mass in the place where data most balances out. Placing the center begins the algorithm\n",
    "\n",
    "    - Counting the amount of clusters discernible in a dataset\n",
    "        - k-value\n",
    "    - Every data point is it's own unique classification\n",
    "    - formula: 1 <_k <_ amount of data (d)\n",
    "    - Application of algorithim for each data point over time to create clusters\n",
    "        - Used for anomaly detection when utilizing A.I.\n",
    "            - Clusters = anomaly locations"
   ]
  },
  {
   "cell_type": "markdown",
   "id": "right-album",
   "metadata": {},
   "source": [
    "## **Example**\n",
    "---\n",
    "- K = 4 <- chosen by user\n",
    "- Determined with Euclidean Norm \n",
    "- Objective: Measure distance between data points\n",
    "\n",
    "- $P_1$ = 1\n",
    "    - Closest points:\n",
    "        - $P_2$ = 3\n",
    "        - $P_3$ = 3"
   ]
  },
  {
   "cell_type": "code",
   "execution_count": null,
   "id": "under-salad",
   "metadata": {},
   "outputs": [],
   "source": []
  }
 ],
 "metadata": {
  "kernelspec": {
   "display_name": "Python 3",
   "language": "python",
   "name": "python3"
  },
  "language_info": {
   "codemirror_mode": {
    "name": "ipython",
    "version": 3
   },
   "file_extension": ".py",
   "mimetype": "text/x-python",
   "name": "python",
   "nbconvert_exporter": "python",
   "pygments_lexer": "ipython3",
   "version": "3.6.9"
  }
 },
 "nbformat": 4,
 "nbformat_minor": 5
}
