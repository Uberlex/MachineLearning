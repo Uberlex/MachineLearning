{
 "cells": [
  {
   "cell_type": "markdown",
   "id": "elegant-campus",
   "metadata": {},
   "source": [
    "# **Homework 5**\n",
    "---"
   ]
  },
  {
   "cell_type": "code",
   "execution_count": 1,
   "id": "geological-graph",
   "metadata": {},
   "outputs": [],
   "source": [
    "import rrcc_evolution as evol\n",
    "import numpy as np\n",
    "import matplotlib.pyplot as plt\n",
    "import pandas as pd\n",
    "from tqdm import tqdm "
   ]
  },
  {
   "cell_type": "markdown",
   "id": "specialized-rover",
   "metadata": {},
   "source": [
    "---"
   ]
  },
  {
   "cell_type": "markdown",
   "id": "proof-divorce",
   "metadata": {},
   "source": [
    "Evolutionary algorithms involve taking an array of numerical sequences, known as the target variable, and using it's contents to create two other arrays with random values, all of which existing within the targets domain. Info is extracted from these parents via a probability algorithm in order to create a new array, known as descendants with a mixture of numbers from both parents. The objective of the descendants is to fulfill the assigned task to a more efficient extent than the parents or to get closer to the designated target array. Descendants become parents and the process continues to progress until the algorithm runs out of cycles or has reached the closest possible semblance to the target."
   ]
  },
  {
   "cell_type": "markdown",
   "id": "signal-stake",
   "metadata": {},
   "source": [
    "---\n",
    "### ***RRCC Evolution Program***\n",
    "----"
   ]
  },
  {
   "cell_type": "markdown",
   "id": "grateful-fitness",
   "metadata": {},
   "source": [
    "Thanks to previous work, much of the code for the task of creating an evolutionary algorithm has already been written. RRCC Evolution is where the algorithm is located. It contains the means for parents to be made based on the target array, which must be created in this notebook. The learning rate and amount of epoch cycles must be set for the parents to create descendants and continue closer to the target value. The closest descendant will be marked with the tracked progress of the evolutionary algorithm set to a graph in proportion to a time variable as a placeholder."
   ]
  },
  {
   "cell_type": "markdown",
   "id": "precious-contact",
   "metadata": {},
   "source": [
    "---"
   ]
  },
  {
   "cell_type": "code",
   "execution_count": 3,
   "id": "right-timothy",
   "metadata": {},
   "outputs": [],
   "source": [
    "target = np.array([3,1,4,1,5,9,2,6])               # Setting a target degree for which the parents to reach for. \n",
    "\n",
    "parent_0_1, parent_0_2 = evol.make_parents(target) # Define the parents as variables and randomly generate their contents using the rrcc_evolution code\n",
    "\n",
    "# Track the evolutionary progress of parents into descendants and how much closer they get to the target data\n",
    "gen_line_0, hist_0 = evol.evolution(parent_0_1, parent_0_2, target, 200, 100, .1 ) "
   ]
  },
  {
   "cell_type": "code",
   "execution_count": 4,
   "id": "exterior-planner",
   "metadata": {},
   "outputs": [
    {
     "name": "stdout",
     "output_type": "stream",
     "text": [
      "[3.0009586373911707, 1.0175763704433454, 4.005554619069108, 1.0250905682876814, 5.000035128136013, 8.99564340975022, 1.9998751620530992, 5.996165304318661]\n"
     ]
    },
    {
     "data": {
      "image/png": "[encoded data removed]",
      "text/plain": [
       "<Figure size 432x288 with 1 Axes>"
      ]
     },
     "metadata": {
      "needs_background": "light"
     },
     "output_type": "display_data"
    }
   ],
   "source": [
    "t_0 = np.arange(np.shape(hist_0)[0]) # Arrange time-variables in proportion with the evolutionary progress variable\n",
    "\n",
    "print(gen_line_0)                    # Print the descendant closest to the target array\n",
    "plt.scatter(t_0, hist_0)             # Create a graph with time-variables as the x-axis and the evolutionary progress variable as the y-axis.\n",
    "plt.show()                           # Display the final result"
   ]
  },
  {
   "cell_type": "markdown",
   "id": "interpreted-swing",
   "metadata": {},
   "source": [
    "---\n",
    "### ***RRCC Evolution***\n",
    "\n",
    "---"
   ]
  },
  {
   "cell_type": "code",
   "execution_count": null,
   "id": "comprehensive-perry",
   "metadata": {},
   "outputs": [],
   "source": [
    "p1, p2 = evol.make_parents(target) # Create two more number sequences based off of the target data\n",
    "\n",
    "final_parent, history = evol.evolution(p1, p2, target, 100, 50, .1)"
   ]
  },
  {
   "cell_type": "code",
   "execution_count": null,
   "id": "viral-raise",
   "metadata": {},
   "outputs": [],
   "source": [
    "final_parent"
   ]
  },
  {
   "cell_type": "code",
   "execution_count": null,
   "id": "controlled-lying",
   "metadata": {},
   "outputs": [],
   "source": [
    "t = np.arange(len(history))\n",
    "plt.scatter(t, history)\n",
    "plt.xlabel(\"Generations\")\n",
    "plt.ylabel(\"Score\")\n",
    "plt.title(\"Progress over the generations\")\n",
    "plt.show()"
   ]
  },
  {
   "cell_type": "code",
   "execution_count": null,
   "id": "unusual-progress",
   "metadata": {},
   "outputs": [],
   "source": []
  },
  {
   "cell_type": "code",
   "execution_count": null,
   "id": "satisfactory-median",
   "metadata": {},
   "outputs": [],
   "source": []
  }
 ],
 "metadata": {
  "kernelspec": {
   "display_name": "Python 3",
   "language": "python",
   "name": "python3"
  },
  "language_info": {
   "codemirror_mode": {
    "name": "ipython",
    "version": 3
   },
   "file_extension": ".py",
   "mimetype": "text/x-python",
   "name": "python",
   "nbconvert_exporter": "python",
   "pygments_lexer": "ipython3",
   "version": "3.6.9"
  }
 },
 "nbformat": 4,
 "nbformat_minor": 5
}
