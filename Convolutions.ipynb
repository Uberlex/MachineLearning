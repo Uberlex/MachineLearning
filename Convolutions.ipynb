{
 "cells": [
  {
   "cell_type": "markdown",
   "id": "endless-blues",
   "metadata": {},
   "source": [
    "# **Convolutional Neural Nets (CNN)**\n",
    "---"
   ]
  },
  {
   "cell_type": "markdown",
   "id": "decreased-quarter",
   "metadata": {},
   "source": [
    "Definition: An architecture of a neural network with a purpose to analyze pictures, also known as images\n",
    "- Mathematical operation\n",
    "    - Two functions create a third\n",
    "    - Third function: statement of the shape of the initial function is changed by another"
   ]
  },
  {
   "cell_type": "markdown",
   "id": "built-removal",
   "metadata": {},
   "source": [
    "---\n",
    "## ***Image Representation***\n",
    "---"
   ]
  },
  {
   "cell_type": "markdown",
   "id": "overall-courtesy",
   "metadata": {},
   "source": [
    "- RGB Image: A matrix of pixels divided into three colored planes: red, blue, and green. \n",
    "    - Greyscale = single layer image\n",
    "    "
   ]
  },
  {
   "cell_type": "markdown",
   "id": "historic-scenario",
   "metadata": {},
   "source": [
    "---\n",
    "## ***From Image to Convoluted Feature***\n",
    "---"
   ]
  },
  {
   "cell_type": "markdown",
   "id": "twelve-moral",
   "metadata": {},
   "source": [
    "- Image/input data: depicted as a grid or MATRIX of numbers\n",
    "    - Numbers: numerical concentration of a single layer color in one region of the image\n",
    "        - The higher the number, the higher the visibility of the color\n",
    "- Kernel: Extraction of a piece of the input data to convert into a convoluted feature\n",
    "- Convoluted Feature: A multiplication of all the kernel content numbers and adding all the products together into a single number. \n",
    "    - Passes to the next layer of the neural network following creation.\n",
    "    - Full image processed through the neural net with each convoluted feature added to the create the image"
   ]
  },
  {
   "cell_type": "markdown",
   "id": "united-balance",
   "metadata": {},
   "source": [
    "---\n",
    "## **CNN Layers**\n",
    "---"
   ]
  },
  {
   "cell_type": "markdown",
   "id": "centered-respondent",
   "metadata": {},
   "source": [
    "- Function: Extraction of contour lines: horizontal and diagonal borders\n",
    "    - Pass all features to the next layer\n",
    "    - Each layer passed through detects progressively more complex features\n",
    "        - Corners\n",
    "        - Shapes\n",
    "        - Objects\n",
    "        - Faces\n"
   ]
  },
  {
   "cell_type": "markdown",
   "id": "amateur-exposure",
   "metadata": {},
   "source": [
    "---\n",
    "### ***Pooling Layer***\n",
    "---"
   ]
  },
  {
   "cell_type": "markdown",
   "id": "appreciated-declaration",
   "metadata": {},
   "source": [
    "Function: Reduce the amount of processing power required to operate the Convolution Neural Network\n",
    "- Reduce the size of the matrices extracted from the input data"
   ]
  },
  {
   "cell_type": "markdown",
   "id": "middle-wedding",
   "metadata": {},
   "source": [
    "- Max Pooling: Find the maximum value in the input matrix and remove it, reducing it's initial position to zero"
   ]
  },
  {
   "cell_type": "markdown",
   "id": "handmade-score",
   "metadata": {},
   "source": [
    "- Average Pooling: Add up all numbers in the kernel, then divide them by the matrix amount to determine the amount pixels to take away from that kernel"
   ]
  },
  {
   "cell_type": "markdown",
   "id": "adjustable-machinery",
   "metadata": {},
   "source": [
    "---\n",
    "## **Types of Networks**"
   ]
  },
  {
   "cell_type": "markdown",
   "id": "difficult-championship",
   "metadata": {},
   "source": [
    "---\n",
    "### ***VGG***\n",
    "---"
   ]
  },
  {
   "cell_type": "code",
   "execution_count": null,
   "id": "periodic-release",
   "metadata": {},
   "outputs": [],
   "source": []
  },
  {
   "cell_type": "markdown",
   "id": "amino-threshold",
   "metadata": {},
   "source": [
    "---\n",
    "### ***ResNet***\n",
    "---"
   ]
  },
  {
   "cell_type": "code",
   "execution_count": null,
   "id": "hollywood-highway",
   "metadata": {},
   "outputs": [],
   "source": []
  },
  {
   "cell_type": "markdown",
   "id": "olive-publisher",
   "metadata": {},
   "source": [
    "---\n",
    "### ***YOLO***\n",
    "---"
   ]
  },
  {
   "cell_type": "code",
   "execution_count": null,
   "id": "technical-french",
   "metadata": {},
   "outputs": [],
   "source": []
  }
 ],
 "metadata": {
  "kernelspec": {
   "display_name": "Python 3",
   "language": "python",
   "name": "python3"
  },
  "language_info": {
   "codemirror_mode": {
    "name": "ipython",
    "version": 3
   },
   "file_extension": ".py",
   "mimetype": "text/x-python",
   "name": "python",
   "nbconvert_exporter": "python",
   "pygments_lexer": "ipython3",
   "version": "3.6.9"
  }
 },
 "nbformat": 4,
 "nbformat_minor": 5
}
