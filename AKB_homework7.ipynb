{
 "cells": [
  {
   "cell_type": "markdown",
   "id": "ruled-mapping",
   "metadata": {},
   "source": [
    "# **Homework 7**\n",
    "---"
   ]
  },
  {
   "cell_type": "markdown",
   "id": "fallen-steam",
   "metadata": {},
   "source": [
    "### ***Import the necessary tools***\n",
    "---"
   ]
  },
  {
   "cell_type": "code",
   "execution_count": null,
   "id": "suited-coach",
   "metadata": {},
   "outputs": [],
   "source": [
    "import numpy as np\n",
    "import pandas as pd\n",
    "import time\n",
    "import sys\n",
    "from tqdm import tqdm\n",
    "import tensorflow as tf\n",
    "tf.random.set_seed(1337)\n",
    "import matplotlib.pyplot as plt\n",
    "from tensorflow import keras\n",
    "from tensorflow.keras import models\n",
    "from tensorflow.keras.models import Sequential\n",
    "from tensorflow.keras import layers"
   ]
  },
  {
   "cell_type": "code",
   "execution_count": null,
   "id": "perfect-threshold",
   "metadata": {},
   "outputs": [],
   "source": [
    "print(\"Tensorflow version:\", tf.__version__)\n",
    "print(\"Pandas version:\", pd.__version__)\n",
    "print(\"Keras version:\", keras.__version__)"
   ]
  },
  {
   "cell_type": "code",
   "execution_count": null,
   "id": "sharp-adolescent",
   "metadata": {},
   "outputs": [],
   "source": [
    "physical_devices = tf.config.list_physical_devices('GPU')\n",
    "print(physical_devices)\n",
    "for gpu_instance in physical_devices:\n",
    "    tf.config.experimental.set_memory_growth(gpu_instance, True)"
   ]
  },
  {
   "cell_type": "markdown",
   "id": "wired-survey",
   "metadata": {},
   "source": [
    "---\n",
    "### ***Import and view the data***\n",
    "---"
   ]
  },
  {
   "cell_type": "code",
   "execution_count": null,
   "id": "unable-intro",
   "metadata": {},
   "outputs": [],
   "source": [
    "CERN = pd.read_csv('~/Files/Data/CERN_data/atlas-higgs-challenge-2014-v2.csv')"
   ]
  },
  {
   "cell_type": "code",
   "execution_count": null,
   "id": "amino-fifteen",
   "metadata": {},
   "outputs": [],
   "source": [
    "CERN.head()"
   ]
  },
  {
   "cell_type": "markdown",
   "id": "express-specification",
   "metadata": {},
   "source": [
    "---\n",
    "### ***Break the Data into two Training and Testing Sets***\n",
    "---"
   ]
  },
  {
   "cell_type": "code",
   "execution_count": null,
   "id": "several-freedom",
   "metadata": {},
   "outputs": [],
   "source": [
    "val_CERN = CERN.sample(frac=0.2, random_state=1337)\n",
    "train_dataframe=CERN.drop(val_CERN.index).sample(frac=1, random_state=1337)\n",
    "train_dataframe.keys()"
   ]
  },
  {
   "cell_type": "code",
   "execution_count": null,
   "id": "subtle-ceremony",
   "metadata": {},
   "outputs": [],
   "source": [
    "np.unique(CERN[\"Label\"], return_counts=True)"
   ]
  },
  {
   "cell_type": "markdown",
   "id": "forty-friday",
   "metadata": {},
   "source": [
    "---\n",
    "### ***Create a Training Frame from the Data***\n",
    "---"
   ]
  },
  {
   "cell_type": "code",
   "execution_count": null,
   "id": "million-technique",
   "metadata": {},
   "outputs": [],
   "source": [
    "CERN.keys()"
   ]
  },
  {
   "cell_type": "code",
   "execution_count": null,
   "id": "after-spring",
   "metadata": {},
   "outputs": [],
   "source": [
    "X_train = CERN[['DER_mass_MMC', 'DER_mass_transverse_met_lep',\n",
    "       'DER_mass_vis', 'DER_pt_h', 'DER_deltaeta_jet_jet', 'DER_mass_jet_jet',\n",
    "       'DER_prodeta_jet_jet', 'DER_deltar_tau_lep', 'DER_pt_tot', 'DER_sum_pt',\n",
    "       'DER_pt_ratio_lep_tau', 'DER_met_phi_centrality',\n",
    "       'DER_lep_eta_centrality', 'PRI_tau_pt', 'PRI_tau_eta', 'PRI_tau_phi',\n",
    "       'PRI_lep_pt', 'PRI_lep_eta', 'PRI_lep_phi', 'PRI_met', 'PRI_met_phi',\n",
    "       'PRI_met_sumet', 'PRI_jet_num', 'PRI_jet_leading_pt',\n",
    "       'PRI_jet_leading_eta', 'PRI_jet_leading_phi', 'PRI_jet_subleading_pt',\n",
    "       'PRI_jet_subleading_eta', 'PRI_jet_subleading_phi', 'PRI_jet_all_pt',\n",
    "       'Weight']]\n",
    "y_train =  CERN['Label']\n",
    "\n",
    "y_train"
   ]
  },
  {
   "cell_type": "markdown",
   "id": "played-detroit",
   "metadata": {},
   "source": [
    "---\n",
    "### ***Setting up the Network***\n",
    "---"
   ]
  },
  {
   "cell_type": "code",
   "execution_count": null,
   "id": "numerous-fifty",
   "metadata": {},
   "outputs": [],
   "source": [
    "model = models.Sequential([\n",
    "    layers.Dense(10, activation='relu', input_shape=(31,)),\n",
    "    layers.Dropout(.1, seed = 1337),\n",
    "    layers.Dense(1, activation='sigmoid')\n",
    "])"
   ]
  },
  {
   "cell_type": "code",
   "execution_count": null,
   "id": "occasional-entrance",
   "metadata": {},
   "outputs": [],
   "source": [
    "model.compile(optimizer='sgd', loss='binary_crossentropy', metrics=['accuracy', 'mse'])"
   ]
  },
  {
   "cell_type": "code",
   "execution_count": null,
   "id": "perfect-forty",
   "metadata": {},
   "outputs": [],
   "source": [
    "keras.utils.plot_model(model, show_shapes=True, rankdir=\"LR\")"
   ]
  },
  {
   "cell_type": "code",
   "execution_count": null,
   "id": "general-aluminum",
   "metadata": {},
   "outputs": [],
   "source": [
    "model.summary()"
   ]
  },
  {
   "cell_type": "markdown",
   "id": "funded-metropolitan",
   "metadata": {},
   "source": [
    "---\n",
    "### ***Training***\n",
    "---"
   ]
  },
  {
   "cell_type": "code",
   "execution_count": null,
   "id": "neural-cameroon",
   "metadata": {},
   "outputs": [],
   "source": [
    "history_info = model.fit(X_train, y_train, epochs=500, batch_size=35, verbose=2)"
   ]
  },
  {
   "cell_type": "code",
   "execution_count": null,
   "id": "continued-irish",
   "metadata": {},
   "outputs": [],
   "source": [
    "# Accuracy plot\n",
    "plt.plot(history_info.history['accuracy'])\n",
    "plt.title('model accuracy')\n",
    "plt.ylabel('accuracy')\n",
    "plt.xlabel('epochs')\n",
    "plt.legent(['train', 'validation'], loc='upper left')\n",
    "plt.show()\n",
    "\n",
    "# Loss plot\n",
    "plt.plot(history_info.history['loss'])\n",
    "plt.title('model loss')\n",
    "plt.ylabel('loss')\n",
    "plt.xlabel('epochs')\n",
    "plt.legent(['train', 'validation', loc='upper left'])\n",
    "plt.show()\n",
    "\n",
    "# Loss plot\n",
    "plt.plot(history_info.history['mse'])\n",
    "plt.title('model mse')\n",
    "plt.ylabel('mse')\n",
    "plt.xlabel('epoch')\n",
    "plt.legend(['train', 'validation'], loc='upper left')\n",
    "plt.show()"
   ]
  },
  {
   "cell_type": "markdown",
   "id": "shared-standing",
   "metadata": {},
   "source": [
    "---\n",
    "### ***Deployment***\n",
    "---"
   ]
  },
  {
   "cell_type": "code",
   "execution_count": null,
   "id": "single-homeless",
   "metadata": {},
   "outputs": [],
   "source": [
    "model.predict([[.45,.45,.45,.34]])"
   ]
  }
 ],
 "metadata": {
  "kernelspec": {
   "display_name": "Python 3",
   "language": "python",
   "name": "python3"
  },
  "language_info": {
   "codemirror_mode": {
    "name": "ipython",
    "version": 3
   },
   "file_extension": ".py",
   "mimetype": "text/x-python",
   "name": "python",
   "nbconvert_exporter": "python",
   "pygments_lexer": "ipython3",
   "version": "3.6.9"
  }
 },
 "nbformat": 4,
 "nbformat_minor": 5
}
