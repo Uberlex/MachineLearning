{
 "cells": [
  {
   "cell_type": "code",
   "execution_count": 1,
   "id": "allied-savannah",
   "metadata": {},
   "outputs": [],
   "source": [
    "import pandas as pd\n",
    "import numpy as np\n",
    "from tqdm import tqdm\n",
    "from scipy import stats\n",
    "\n",
    "import time"
   ]
  },
  {
   "cell_type": "code",
   "execution_count": 2,
   "id": "champion-helmet",
   "metadata": {},
   "outputs": [],
   "source": [
    "raw_training_data = pd.read_csv(\"~/Files/Data/mnist_train.csv\")\n",
    "raw_testing_data = pd.read_csv(\"~/Answers/Homework_1/mnist_test.csv\")"
   ]
  },
  {
   "cell_type": "code",
   "execution_count": 3,
   "id": "searching-snake",
   "metadata": {},
   "outputs": [],
   "source": [
    "raw_training_data_array = np.array(raw_training_data)\n",
    "raw_testing_data_array = np.array(raw_testing_data)"
   ]
  },
  {
   "cell_type": "code",
   "execution_count": 4,
   "id": "suspected-machine",
   "metadata": {},
   "outputs": [],
   "source": [
    "def distance(x1,x2):\n",
    "    return np.sum((np.sum([x1,-x2], axis=0) ** 2))"
   ]
  },
  {
   "cell_type": "code",
   "execution_count": 5,
   "id": "reliable-magazine",
   "metadata": {},
   "outputs": [
    {
     "name": "stderr",
     "output_type": "stream",
     "text": [
      "100%|██████████| 60000/60000 [00:01<00:00, 37720.49it/s]\n",
      "100%|██████████| 60000/60000 [00:01<00:00, 38293.17it/s]\n",
      "100%|██████████| 60000/60000 [00:01<00:00, 38146.09it/s]\n",
      "100%|██████████| 60000/60000 [00:01<00:00, 38166.96it/s]\n",
      "100%|██████████| 60000/60000 [00:01<00:00, 37517.91it/s]\n",
      "100%|██████████| 60000/60000 [00:01<00:00, 38400.60it/s]\n",
      "100%|██████████| 60000/60000 [00:01<00:00, 38161.56it/s]\n",
      "100%|██████████| 60000/60000 [00:01<00:00, 38253.78it/s]\n",
      "100%|██████████| 60000/60000 [00:01<00:00, 37696.74it/s]\n",
      "100%|██████████| 60000/60000 [00:01<00:00, 38019.86it/s]\n",
      "100%|██████████| 60000/60000 [00:01<00:00, 38372.91it/s]\n",
      "100%|██████████| 60000/60000 [00:01<00:00, 38261.70it/s]\n",
      "100%|██████████| 60000/60000 [00:01<00:00, 38255.61it/s]\n",
      "100%|██████████| 60000/60000 [00:01<00:00, 38119.18it/s]\n",
      "100%|██████████| 60000/60000 [00:01<00:00, 38161.61it/s]\n",
      "100%|██████████| 60000/60000 [00:01<00:00, 38533.87it/s]\n",
      "100%|██████████| 60000/60000 [00:01<00:00, 37770.31it/s]\n",
      "100%|██████████| 60000/60000 [00:01<00:00, 38295.32it/s]\n",
      "100%|██████████| 60000/60000 [00:01<00:00, 38250.08it/s]\n",
      "100%|██████████| 60000/60000 [00:01<00:00, 38263.89it/s]\n",
      "100%|██████████| 60000/60000 [00:01<00:00, 38254.82it/s]\n",
      "100%|██████████| 60000/60000 [00:01<00:00, 38260.35it/s]\n",
      "100%|██████████| 60000/60000 [00:01<00:00, 38346.74it/s]\n",
      "100%|██████████| 60000/60000 [00:01<00:00, 38192.68it/s]\n",
      "100%|██████████| 60000/60000 [00:01<00:00, 38342.86it/s]\n",
      "100%|██████████| 60000/60000 [00:01<00:00, 38327.54it/s]\n",
      "100%|██████████| 60000/60000 [00:01<00:00, 38254.33it/s]\n",
      "100%|██████████| 60000/60000 [00:01<00:00, 38295.67it/s]\n",
      "100%|██████████| 60000/60000 [00:01<00:00, 38436.31it/s]\n",
      "100%|██████████| 60000/60000 [00:01<00:00, 38541.03it/s]\n",
      "100%|██████████| 60000/60000 [00:01<00:00, 38320.50it/s]\n",
      "100%|██████████| 60000/60000 [00:01<00:00, 38353.99it/s]\n",
      "100%|██████████| 60000/60000 [00:01<00:00, 38341.47it/s]\n",
      "100%|██████████| 60000/60000 [00:01<00:00, 38119.87it/s]\n",
      "100%|██████████| 60000/60000 [00:01<00:00, 38024.46it/s]\n",
      "100%|██████████| 60000/60000 [00:01<00:00, 38406.37it/s]\n",
      "100%|██████████| 60000/60000 [00:01<00:00, 38647.32it/s]\n",
      "100%|██████████| 60000/60000 [00:01<00:00, 38532.08it/s]\n",
      "100%|██████████| 60000/60000 [00:01<00:00, 38275.90it/s]\n",
      "100%|██████████| 60000/60000 [00:01<00:00, 38547.19it/s]\n",
      "100%|██████████| 60000/60000 [00:01<00:00, 38299.00it/s]\n",
      "100%|██████████| 60000/60000 [00:01<00:00, 38419.80it/s]\n",
      "100%|██████████| 60000/60000 [00:01<00:00, 38315.95it/s]\n",
      "100%|██████████| 60000/60000 [00:01<00:00, 38336.44it/s]\n",
      "100%|██████████| 60000/60000 [00:01<00:00, 38339.87it/s]\n",
      " 22%|██▏       | 13288/60000 [00:00<00:01, 38159.14it/s]\n"
     ]
    },
    {
     "ename": "KeyboardInterrupt",
     "evalue": "",
     "output_type": "error",
     "traceback": [
      "\u001b[0;31m---------------------------------------------------------------------------\u001b[0m",
      "\u001b[0;31mKeyboardInterrupt\u001b[0m                         Traceback (most recent call last)",
      "\u001b[0;32m<ipython-input-5-8caa65e3355a>\u001b[0m in \u001b[0;36m<module>\u001b[0;34m\u001b[0m\n\u001b[1;32m     10\u001b[0m \u001b[0;34m\u001b[0m\u001b[0m\n\u001b[1;32m     11\u001b[0m     \u001b[0;32mfor\u001b[0m \u001b[0mx\u001b[0m \u001b[0;32min\u001b[0m \u001b[0mtqdm\u001b[0m\u001b[0;34m(\u001b[0m\u001b[0mraw_training_data_array\u001b[0m\u001b[0;34m)\u001b[0m\u001b[0;34m:\u001b[0m\u001b[0;34m\u001b[0m\u001b[0;34m\u001b[0m\u001b[0m\n\u001b[0;32m---> 12\u001b[0;31m         \u001b[0mdistances\u001b[0m\u001b[0;34m.\u001b[0m\u001b[0mappend\u001b[0m\u001b[0;34m(\u001b[0m\u001b[0mdistance\u001b[0m\u001b[0;34m(\u001b[0m\u001b[0mx\u001b[0m\u001b[0;34m[\u001b[0m\u001b[0;34m:\u001b[0m\u001b[0;34m]\u001b[0m\u001b[0;34m,\u001b[0m \u001b[0my\u001b[0m\u001b[0;34m)\u001b[0m\u001b[0;34m)\u001b[0m\u001b[0;34m\u001b[0m\u001b[0;34m\u001b[0m\u001b[0m\n\u001b[0m\u001b[1;32m     13\u001b[0m     \u001b[0;32mif\u001b[0m \u001b[0manswer\u001b[0m \u001b[0;34m==\u001b[0m \u001b[0mstats\u001b[0m\u001b[0;34m.\u001b[0m\u001b[0mmode\u001b[0m\u001b[0;34m(\u001b[0m\u001b[0mraw_training_data_array\u001b[0m\u001b[0;34m[\u001b[0m\u001b[0mnp\u001b[0m\u001b[0;34m.\u001b[0m\u001b[0margsort\u001b[0m\u001b[0;34m(\u001b[0m\u001b[0mdistances\u001b[0m\u001b[0;34m)\u001b[0m\u001b[0;34m[\u001b[0m\u001b[0;36m1\u001b[0m\u001b[0;34m:\u001b[0m\u001b[0;36m5\u001b[0m\u001b[0;34m]\u001b[0m\u001b[0;34m]\u001b[0m\u001b[0;34m.\u001b[0m\u001b[0mT\u001b[0m\u001b[0;34m[\u001b[0m\u001b[0;36m0\u001b[0m\u001b[0;34m]\u001b[0m\u001b[0;34m)\u001b[0m\u001b[0;34m[\u001b[0m\u001b[0;36m0\u001b[0m\u001b[0;34m]\u001b[0m\u001b[0;34m[\u001b[0m\u001b[0;36m0\u001b[0m\u001b[0;34m]\u001b[0m\u001b[0;34m:\u001b[0m\u001b[0;34m\u001b[0m\u001b[0;34m\u001b[0m\u001b[0m\n\u001b[1;32m     14\u001b[0m         \u001b[0mscore_A\u001b[0m \u001b[0;34m+=\u001b[0m \u001b[0;36m1\u001b[0m\u001b[0;34m\u001b[0m\u001b[0;34m\u001b[0m\u001b[0m\n",
      "\u001b[0;32m<ipython-input-4-5d8486a4ae7e>\u001b[0m in \u001b[0;36mdistance\u001b[0;34m(x1, x2)\u001b[0m\n\u001b[1;32m      1\u001b[0m \u001b[0;32mdef\u001b[0m \u001b[0mdistance\u001b[0m\u001b[0;34m(\u001b[0m\u001b[0mx1\u001b[0m\u001b[0;34m,\u001b[0m\u001b[0mx2\u001b[0m\u001b[0;34m)\u001b[0m\u001b[0;34m:\u001b[0m\u001b[0;34m\u001b[0m\u001b[0;34m\u001b[0m\u001b[0m\n\u001b[0;32m----> 2\u001b[0;31m     \u001b[0;32mreturn\u001b[0m \u001b[0mnp\u001b[0m\u001b[0;34m.\u001b[0m\u001b[0msum\u001b[0m\u001b[0;34m(\u001b[0m\u001b[0;34m(\u001b[0m\u001b[0mnp\u001b[0m\u001b[0;34m.\u001b[0m\u001b[0msum\u001b[0m\u001b[0;34m(\u001b[0m\u001b[0;34m[\u001b[0m\u001b[0mx1\u001b[0m\u001b[0;34m,\u001b[0m\u001b[0;34m-\u001b[0m\u001b[0mx2\u001b[0m\u001b[0;34m]\u001b[0m\u001b[0;34m,\u001b[0m \u001b[0maxis\u001b[0m\u001b[0;34m=\u001b[0m\u001b[0;36m0\u001b[0m\u001b[0;34m)\u001b[0m \u001b[0;34m**\u001b[0m \u001b[0;36m2\u001b[0m\u001b[0;34m)\u001b[0m\u001b[0;34m)\u001b[0m\u001b[0;34m\u001b[0m\u001b[0;34m\u001b[0m\u001b[0m\n\u001b[0m",
      "\u001b[0;31mKeyboardInterrupt\u001b[0m: "
     ]
    }
   ],
   "source": [
    "score_A = 0\n",
    "total_A = 0\n",
    "\n",
    "start = time.time()\n",
    "\n",
    "for y in raw_testing_data_array:\n",
    "    distances = []\n",
    "    answer = y[0]\n",
    "    total_A += 1\n",
    "    \n",
    "    for x in tqdm(raw_training_data_array):\n",
    "        distances.append(distance(x[:], y))\n",
    "    if answer == stats.mode(raw_training_data_array[np.argsort(distances)[1:5]].T[0])[0][0]:\n",
    "        score_A += 1\n",
    "  \n",
    "end = time.time()\n",
    "\n",
    "print(\"Score\", score_Sci / i)  \n",
    "print(\"It took\", end - start)"
   ]
  },
  {
   "cell_type": "code",
   "execution_count": null,
   "id": "twenty-holiday",
   "metadata": {},
   "outputs": [],
   "source": []
  }
 ],
 "metadata": {
  "kernelspec": {
   "display_name": "Python 3",
   "language": "python",
   "name": "python3"
  },
  "language_info": {
   "codemirror_mode": {
    "name": "ipython",
    "version": 3
   },
   "file_extension": ".py",
   "mimetype": "text/x-python",
   "name": "python",
   "nbconvert_exporter": "python",
   "pygments_lexer": "ipython3",
   "version": "3.6.9"
  }
 },
 "nbformat": 4,
 "nbformat_minor": 5
}
