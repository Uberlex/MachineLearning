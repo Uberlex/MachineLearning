{
 "cells": [
  {
   "cell_type": "markdown",
   "id": "laughing-hopkins",
   "metadata": {},
   "source": [
    "# **Lecture: K Nearest Neighbor**"
   ]
  },
  {
   "cell_type": "markdown",
   "id": "cultural-continent",
   "metadata": {},
   "source": [
    "---\n",
    "Pipeline:\n",
    "- Read in data.\n",
    "- Break into features and targets.\n",
    "- Break into training and testing.\n",
    "- Measure distance from each testing point to all training points.\n",
    "    - Do this for every `k`.\n",
    "    - Assess the score for each.\n",
    "    - Graph them all. \n",
    "- Use that `k` for production code. <-- To do (part of next week)\n",
    "---\n",
    "\n",
    "In the below notebook you will find the structure of our production KNN code. There are some comments for each of the definitions, but the included inline comments are questions. These questions are there to help us puzzle through the code and connect it to the conversation we had in class about the algorithm.\n",
    "\n",
    "Pick a question and copy it and the answer (or thoughts on the question) into discord."
   ]
  },
  {
   "cell_type": "code",
   "execution_count": null,
   "id": "competent-bidding",
   "metadata": {},
   "outputs": [],
   "source": [
    "import numpy as np # For math.\n",
    "import pandas as pd # For data.\n",
    "from tqdm import tqdm # For timeing loops.\n",
    "import matplotlib.pyplot as plt # For plotting.\n",
    "from scipy import stats # For mode."
   ]
  },
  {
   "cell_type": "markdown",
   "id": "designed-cincinnati",
   "metadata": {},
   "source": [
    "## Read in data and process Data."
   ]
  },
  {
   "cell_type": "code",
   "execution_count": null,
   "id": "inner-november",
   "metadata": {},
   "outputs": [],
   "source": [
    "def READ_IN_DATA(PATH, f, P):\n",
    "    \n",
    "    \"\"\"\n",
    "    Reads in the csv data at the PATH, the number of features to extract and the percentage of data for training. \n",
    "    \n",
    "    This data is shuffled and splits it into training and testing. \n",
    "    The training and the testing data are then split into features and targets, and the testing \n",
    "    data is left with the features and targets together. \n",
    "    \n",
    "    This returns the raw data, the training features and targets the testing features and targets and the training size.\n",
    "    \"\"\"\n",
    "    RAW_DATA = pd.read_csv(PATH).sample(frac=1) # What does the pandas command sample(frac=1) do?\n",
    "    RAW_DATA[\"Num_Cat\"] = pd.factorize(RAW_DATA.iloc[:, -1])[0] # What does the pandas command factorize do?\n",
    "    \n",
    "    RAW_DATA = np.array(RAW_DATA)\n",
    "    \n",
    "    Count = int(np.floor(np.shape(RAW_DATA)[0] * P)) # What is going on here?\n",
    "    \n",
    "    training = RAW_DATA[: Count, 1:] # Why is there a 1 here? (Hint: Look at the data without this definition)\n",
    "    testing = RAW_DATA[Count : , 1:] \n",
    "    \n",
    "    X_training = training[:, : f]\n",
    "    Y_training = training[:, -1]\n",
    "\n",
    "    X_testing = testing[:, : f]\n",
    "    Y_testing = testing[:, -1]\n",
    "    \n",
    "    return [RAW_DATA, X_training, Y_training, X_testing, Y_testing, Count]"
   ]
  },
  {
   "cell_type": "markdown",
   "id": "external-handling",
   "metadata": {},
   "source": [
    "## Measure distance from each testing point to all training points."
   ]
  },
  {
   "cell_type": "code",
   "execution_count": null,
   "id": "portable-friendly",
   "metadata": {},
   "outputs": [],
   "source": [
    "def distance(x,y):\n",
    "    \"\"\"\n",
    "    Takes two numpy arrays. \n",
    "    \n",
    "    Finds the distance between each of the points in the two arrays. \n",
    "    \n",
    "    Returns (n,1) array with all the distances.\n",
    "    \n",
    "    \"\"\"\n",
    "    return np.sum(np.power((x - y) , 2) , axis = 1) # What does the axis = 1 do?"
   ]
  },
  {
   "cell_type": "code",
   "execution_count": null,
   "id": "blocked-shelf",
   "metadata": {},
   "outputs": [],
   "source": [
    "def KNN(x, DATA, k, N):\n",
    "    \"\"\"\n",
    "    Takes a tuple, the data we will compare, the value for k and the amount of training data. \n",
    "    \n",
    "    Returns the class element for a particular data or array of data.\n",
    "    \"\"\"\n",
    "    \n",
    "    point = np.array([x] * N)\n",
    "    idx = np.argsort(distance(point, DATA[0]))[ : k] # What does the numpy command argsort do?\n",
    "    return stats.mode(DATA[1][idx])[0] # Why are we looking for the mode here?"
   ]
  },
  {
   "cell_type": "code",
   "execution_count": null,
   "id": "detected-register",
   "metadata": {},
   "outputs": [],
   "source": [
    "Gen_Overview = []\n",
    "l = 0\n",
    "\n",
    "for l in tqdm(range(1,20)):\n",
    "    \n",
    "    # Why are we reading the data in the above for loop? What would change if we moved this line above the loop?\n",
    "    R, X_train, Y_train, X_test, Y_test, Train_Size = READ_IN_DATA(\"Iris.csv\", 2, .60)\n",
    "\n",
    "    k_overview = []\n",
    "    \n",
    "    # What does the below loop do?\n",
    "    for k in range(1,150):\n",
    "        \n",
    "        s = 0\n",
    "        j = 0\n",
    "        \n",
    "        Test_Data = [X_test, Y_test]\n",
    "\n",
    "        for F in Test_Data[0]:\n",
    "\n",
    "            C = KNN(F, [X_train, Y_train], k, Train_Size)\n",
    "\n",
    "            # What does this if statement do?\n",
    "            if C == Test_Data[1][j]:\n",
    "                s += 1\n",
    "\n",
    "            j += 1\n",
    "\n",
    "        k_overview.append([k, s / j]) # What is s / j? What is j?\n",
    "\n",
    "    k_overview = np.array(k_overview)\n",
    "\n",
    "    plt.plot(k_overview[:,0], k_overview[:,1]) \n",
    "    plt.xlabel(\"k value\")\n",
    "    plt.ylabel(\"score out of 100%\")\n",
    "     \n",
    "    l += 1"
   ]
  },
  {
   "cell_type": "code",
   "execution_count": null,
   "id": "asian-yukon",
   "metadata": {},
   "outputs": [],
   "source": [
    "# How can we best extract the \"best\" k from the above info? (We will need more code and an edit to the above cell to do this.)"
   ]
  },
  {
   "cell_type": "code",
   "execution_count": null,
   "id": "loose-pregnancy",
   "metadata": {},
   "outputs": [],
   "source": [
    "# Start thinking production. How could we use this? What issues do you see that we many need to address?"
   ]
  }
 ],
 "metadata": {
  "kernelspec": {
   "display_name": "Python 3",
   "language": "python",
   "name": "python3"
  },
  "language_info": {
   "codemirror_mode": {
    "name": "ipython",
    "version": 3
   },
   "file_extension": ".py",
   "mimetype": "text/x-python",
   "name": "python",
   "nbconvert_exporter": "python",
   "pygments_lexer": "ipython3",
   "version": "3.6.9"
  }
 },
 "nbformat": 4,
 "nbformat_minor": 5
}
