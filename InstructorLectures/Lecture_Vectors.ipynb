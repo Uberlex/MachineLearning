{
 "cells": [
  {
   "cell_type": "markdown",
   "metadata": {},
   "source": [
    "# **Lecture Two: Vectors**\n",
    "In this section we are going to look at vectors and how we can work with them in python. We will be working off of the notation that we developed in the matrices lecture.\n"
   ]
  },
  {
   "cell_type": "markdown",
   "metadata": {},
   "source": [
    "$ \\textrm{Def}^{n}: $ A **row vector** is a $1 \\times n$ dimensional matrix. A **column vector** is an $n \\times 1$ dimensional matrix.\n",
    "\n",
    "_**Example**_: $ [ 3 , 4 , 2 ] $. Note, in math we will use sometimes use angles to write vectors; e.g. $\\langle 3, 4, 2 \\rangle$. In the case of the angle notation, we won't indicate row vs column vector.\n",
    "\n",
    "In math and physics that focus is often on the fact that vectors have a **magnitude (length)** and **direction (slope)** that defines them. These are often called **Euclidean Vectors** due to the way that we measure the length. More on this below."
   ]
  },
  {
   "cell_type": "code",
   "execution_count": 2,
   "metadata": {},
   "outputs": [
    {
     "name": "stdout",
     "output_type": "stream",
     "text": [
      "1.19.5\n"
     ]
    }
   ],
   "source": [
    "import numpy as np\n",
    "print(np.version.version)\n",
    "\n",
    "import matplotlib.pyplot as plt # Module that we will need to plot."
   ]
  },
  {
   "cell_type": "markdown",
   "metadata": {},
   "source": [
    "### **Row Vectors**"
   ]
  },
  {
   "cell_type": "code",
   "execution_count": 2,
   "metadata": {},
   "outputs": [
    {
     "name": "stdout",
     "output_type": "stream",
     "text": [
      "[[1 3]]\n",
      "(1, 2)\n"
     ]
    }
   ],
   "source": [
    "x = np.array([[1,3]]) # this is a row vector\n",
    "print(x) \n",
    "print(np.shape(x)) # Shape should be 1 x n (n = 2 in this case)"
   ]
  },
  {
   "cell_type": "markdown",
   "metadata": {},
   "source": [
    "### **Column Vectors**"
   ]
  },
  {
   "cell_type": "code",
   "execution_count": 3,
   "metadata": {},
   "outputs": [
    {
     "name": "stdout",
     "output_type": "stream",
     "text": [
      "[[1]\n",
      " [3]]\n",
      "(2, 1)\n"
     ]
    }
   ],
   "source": [
    "y = np.array([[1],[3]]) # this is a column vector\n",
    "print(y) \n",
    "print(np.shape(y)) # Shape should be n x 1 (n = 2 in this case)"
   ]
  },
  {
   "cell_type": "markdown",
   "metadata": {},
   "source": [
    "_**Practice 1:**_ Assign, $$\\mathbf{r} = \\begin{bmatrix} 1 \\\\ 3 \\end{bmatrix}$$ and $$\\mathbf{m} = \\begin{bmatrix} 1 & 3 \\end{bmatrix}.$$ Check the shape of each of them and print each shape."
   ]
  },
  {
   "cell_type": "markdown",
   "metadata": {},
   "source": [
    "_**Solution :**_"
   ]
  },
  {
   "cell_type": "code",
   "execution_count": null,
   "metadata": {},
   "outputs": [],
   "source": []
  },
  {
   "cell_type": "markdown",
   "metadata": {},
   "source": [
    "---\n",
    "### **The Magnitude (or length or norm) of a Euclidian Vector**  \n",
    "$ \\textrm{Def}^{n}: $ The **magnitude** of vector $\\mathbf{u}$ is the length of the vector and is denoted $|\\mathbf{u}|$. We will use Euclidean norm to find this length. So, if $\\mathbf{u} = \\langle u_1, u_2, u_3, ..., u_n \\rangle$ then,\n",
    "$$|\\mathbf{u}| = \\sqrt{ u_1^2 + u_2^2 + u_3^2 + ... + u_n^2}$$"
   ]
  },
  {
   "cell_type": "code",
   "execution_count": 4,
   "metadata": {},
   "outputs": [
    {
     "data": {
      "text/plain": [
       "1.7320508075688772"
      ]
     },
     "execution_count": 4,
     "metadata": {},
     "output_type": "execute_result"
    }
   ],
   "source": [
    "u = np.array([[1,1,1]]) # Assign the variable.\n",
    "np.linalg.norm(u) # Find the magnitude."
   ]
  },
  {
   "cell_type": "markdown",
   "metadata": {},
   "source": [
    "_**Practice 2:**_ Find the length of the vector $\\mathbf{p} = \\langle 4, 3, 5, 6 \\rangle$.  \n",
    "_**Solution:**_"
   ]
  },
  {
   "cell_type": "code",
   "execution_count": null,
   "metadata": {},
   "outputs": [],
   "source": []
  },
  {
   "cell_type": "markdown",
   "metadata": {},
   "source": [
    "---\n",
    "# **Vector Operations**"
   ]
  },
  {
   "cell_type": "markdown",
   "metadata": {},
   "source": [
    "Check-list for the vector operations we will consider:\n",
    "* Scalar multiplication.\n",
    "* Vector addition.\n",
    "* Dot product.\n",
    "* Cross product."
   ]
  },
  {
   "cell_type": "markdown",
   "metadata": {},
   "source": [
    "### **Scalar multiplication** and **Vector addition**"
   ]
  },
  {
   "cell_type": "markdown",
   "metadata": {},
   "source": [
    ">Both scalar multiplication and vector addition are operationally the same as we saw with matrices. Each will be computed entry-wise and will have the same rules that we saw in the matrix lecture. So in this section we will focus on what is happening graphically."
   ]
  },
  {
   "cell_type": "markdown",
   "metadata": {},
   "source": [
    "### **Vector Addition**  "
   ]
  },
  {
   "cell_type": "code",
   "execution_count": 6,
   "metadata": {},
   "outputs": [
    {
     "name": "stdout",
     "output_type": "stream",
     "text": [
      "[[ 1 -2]\n",
      " [ 0  1]\n",
      " [ 1 -1]]\n"
     ]
    }
   ],
   "source": [
    "x = np.array([1,-2]) # Assign one of the vectors we will add.\n",
    "y = np.array([0,1]) # Assign another vector that we will add.\n",
    "\n",
    "V = np.array([x, y, x + y]) # Build the array of all the vectors. \n",
    "\n",
    "print(V)"
   ]
  },
  {
   "cell_type": "markdown",
   "metadata": {},
   "source": [
    "$V$ is a matrix where each of the rows is one of the vectors that we are going to plot. \n",
    "\n",
    "So, $$V =  \\begin{bmatrix} 1 & -2 \\\\ 0 & 1 \\\\ 1 & -1 \\end{bmatrix} $$"
   ]
  },
  {
   "cell_type": "code",
   "execution_count": 7,
   "metadata": {},
   "outputs": [
    {
     "data": {
      "image/png": "[encoded data removed]",
      "text/plain": [
       "<Figure size 432x288 with 1 Axes>"
      ]
     },
     "metadata": {},
     "output_type": "display_data"
    }
   ],
   "source": [
    "fig, ax = plt.subplots() # Create a figure and a set of subplots.\n",
    "\n",
    "## the * is for unpacking the container origin. https://medium.com/understand-the-python/understanding-the-asterisk-of-python-8b9daaa4a558\n",
    "plt.quiver(V[0,0], V[0,1], color=['r'], scale = 10) # <class 'matplotlib.quiver.Quiver'>\n",
    "plt.quiver(V[1,0], V[1,1], color=['b'], scale = 10) # <class 'matplotlib.quiver.Quiver'>\n",
    "plt.quiver(V[2,0], V[2,1], color=['g'], scale = 10) # <class 'matplotlib.quiver.Quiver'>\n",
    "ax.tick_params(labelbottom=False, labelleft =False) # Remove the labels on the axes.\n",
    "plt.show() # Show the plot."
   ]
  },
  {
   "cell_type": "markdown",
   "metadata": {},
   "source": [
    "### **Scalar Multiplication**"
   ]
  },
  {
   "cell_type": "code",
   "execution_count": 8,
   "metadata": {},
   "outputs": [
    {
     "data": {
      "image/png": "[encoded data removed]",
      "text/plain": [
       "<Figure size 432x288 with 1 Axes>"
      ]
     },
     "metadata": {},
     "output_type": "display_data"
    }
   ],
   "source": [
    "r = np.array([1,1]) # Vector that we are going to scale.\n",
    "\n",
    "V = np.array([r, 3 * r, -2 * r]) # Build the array of all the vectors. \n",
    "\n",
    "fig, ax = plt.subplots() # Create a figure and a set of subplots.\n",
    "plt.quiver(V[0,0], V[0,1], color=['r'], scale = 10) # <class 'matplotlib.quiver.Quiver'>\n",
    "plt.quiver(V[1,0], V[1,1], color=['b'], scale = 10) # <class 'matplotlib.quiver.Quiver'>\n",
    "plt.quiver(V[2,0], V[2,1], color=['g'], scale = 10) # <class 'matplotlib.quiver.Quiver'>\n",
    "\n",
    "ax.tick_params(labelbottom=False, labelleft =False) # Remove the labels on the axes.\n",
    "plt.show() # Show the plot."
   ]
  },
  {
   "cell_type": "markdown",
   "metadata": {},
   "source": [
    "---\n",
    "## **Now the Vector Products**\n",
    "\n",
    "### **Dot Product**  \n",
    "$ \\textrm{Def}^{n}:$ **The Dot Product** is a binary operation that takes two vectors and returns a single scalar value. If $\\mathbf{u} = \\langle u_1, u_2 \\rangle$ and $\\mathbf{v} = \\langle v_1, v_2 \\rangle$ then $\\mathbf{u} \\cdot \\mathbf{v} = u_1v_1 + u_2v_2$, and in general, if $\\mathbf{a} = \\langle a_1, a_2, ... , a_n \\rangle$ and $\\mathbf{b} = \\langle b_1, b_2, ..., b_n \\rangle$ \n",
    "$$a \\cdot  b = \\sum_{i = 1}^{n} a_ib_i = a_1b_1 + a_2b_2 + ... + a_nb_n$$\n",
    "#### **Properties of the dot product**  \n",
    "1. Commutative: $\\mathbf{a} \\cdot \\mathbf{b} = \\mathbf{b} \\cdot \\mathbf{a} $\n",
    "2. Distributive over vector addition: $\\mathbf{a} \\cdot (\\mathbf{b} + \\mathbf{c}) = \\mathbf{a} \\cdot \\mathbf{b} + \\mathbf{a} \\cdot \\mathbf{c}$\n",
    "3. Scalar multiplication: $(c_{1}\\mathbf{a} )\\cdot (c_{2}\\mathbf {b} )=c_{1}c_{2}(\\mathbf {a} \\cdot \\mathbf {b} )$\n",
    "4. Orthogonal: Two non-zero vectors $\\mathbf{a}$ and $\\mathbf{b}$ are orthogonal if and only if $a \\cdot b = 0$.\n",
    "\n",
    "> **Note:** In Python we are going to need to make sure that when we assign a vector that it is oriented so that the matrix product can be computed."
   ]
  },
  {
   "cell_type": "markdown",
   "metadata": {},
   "source": [
    "---\n",
    "_**Broken Example 1:**_ Let $\\mathbf{v} = \\langle 2 , 3 \\rangle $ and $\\mathbf{u} = \\langle -3 , 1 \\rangle $. Find $\\mathbf{v} \\cdot \\mathbf{u}$."
   ]
  },
  {
   "cell_type": "code",
   "execution_count": null,
   "metadata": {},
   "outputs": [],
   "source": [
    "v = np.array([[2,3]]) # Assign the vector v.\n",
    "u = np.array([[-3,1]]) # Assign the vecotr u."
   ]
  },
  {
   "cell_type": "code",
   "execution_count": null,
   "metadata": {},
   "outputs": [],
   "source": [
    "np.dot(v,u)"
   ]
  },
  {
   "cell_type": "markdown",
   "metadata": {},
   "source": [
    "---\n",
    "_**Worked Example 1:**_ Let $\\mathbf{v} = \\langle 2 , 3 \\rangle $ and $\\mathbf{u} = \\langle -3 , 1 \\rangle $. Find $\\mathbf{v} \\cdot \\mathbf{u}$."
   ]
  },
  {
   "cell_type": "code",
   "execution_count": null,
   "metadata": {},
   "outputs": [],
   "source": [
    "v = np.array([[2,3]]) # Assign the vector v.\n",
    "u = np.array([[-3],[1]]) # Assign the vecotr u."
   ]
  },
  {
   "cell_type": "code",
   "execution_count": null,
   "metadata": {},
   "outputs": [],
   "source": [
    "np.dot(v,u)"
   ]
  },
  {
   "cell_type": "markdown",
   "metadata": {},
   "source": [
    "**Note:** that the output is an _array_. This is different then what is true in mathematics about the dot product. That being said, a $1x1$ acts like a scalar. To use this will we need to extract it like with did with the other arrays. "
   ]
  },
  {
   "cell_type": "markdown",
   "metadata": {},
   "source": [
    "---\n",
    "_**Practice 2:**_  Let $\\mathbf{v} = \\langle -3 , 0 , 1 \\rangle $ and $\\mathbf{u} = \\langle -1 , 1, 4 \\rangle $. Find $3(\\mathbf{v} \\cdot \\mathbf{u})$. (Hint: use property 3 above.)"
   ]
  },
  {
   "cell_type": "markdown",
   "metadata": {},
   "source": [
    "_**Solution:**_"
   ]
  },
  {
   "cell_type": "code",
   "execution_count": null,
   "metadata": {},
   "outputs": [],
   "source": []
  },
  {
   "cell_type": "markdown",
   "metadata": {},
   "source": [
    "---\n",
    "### **The Cross Product**  \n",
    "$ \\textrm{Def}^{n}:$ **The Cross Product** is a binary operation that takes two vectors from $\\mathbb{R}^3$ and returns a vector from $\\mathbb{R}^3$. Given $\\mathbf{u} = \\langle u_1, u_2, u_3 \\rangle$ and $\\mathbf{v} = \\langle v_1, v_2, v_3 \\rangle$ then $$\\mathbf{u} \\times \\mathbf{v} = \\langle (u_2v_3 - u_3v_2),-(u_1v_3 - u_3v_1),(u_1v_2 - u_2v_1) \\rangle$$  \n",
    "\n",
    "#### **Some properties of the cross product**  \n",
    "1. Anti-commutative: $\\mathbf{a} \\times \\mathbf{b} = - (\\mathbf{b} \\times \\mathbf{a}) $\n",
    "2. Distributive over vector addition: $\\mathbf{a} \\times (\\mathbf{b} + \\mathbf{c}) = \\mathbf{a} \\times \\mathbf{b} + \\mathbf{a} \\times \\mathbf{c}$\n",
    "3. Scalar multiplication: $(c_{1}\\mathbf{a} )\\times (c_{2}\\mathbf {b} )=c_{1}c_{2}(\\mathbf {a} \\times \\mathbf {b} )$\n",
    "4. $||\\mathbf{u} \\times \\mathbf{v}||$ is the area of the parallelogram, with the vectors $\\mathbf{u}$ and $\\mathbf{v}$ as the sides.\n",
    "\n",
    "In Python we will use `np.cross(u,v)` to cross the vectors u and v in that order.\n"
   ]
  },
  {
   "cell_type": "markdown",
   "metadata": {},
   "source": [
    "---\n",
    "_**Worked Example :**_ Find  $\\langle 1, 2, 3 \\rangle \\times \\langle 2, 3, 1 \\rangle$. Assign this new vector the name $\\mathbf{w1}$."
   ]
  },
  {
   "cell_type": "code",
   "execution_count": null,
   "metadata": {},
   "outputs": [],
   "source": [
    "u1 = np.array([[1,2,3]]) # Assign the vector. \n",
    "v1 = np.array([[2,3,1]]) # Assign the vector.\n",
    "w1 = np.cross(u1,v1) # This is how we will compute the cross product."
   ]
  },
  {
   "cell_type": "code",
   "execution_count": null,
   "metadata": {},
   "outputs": [],
   "source": [
    "print(w1) # Print the vector.\n",
    "print(np.shape(w1)) # Print the shape."
   ]
  },
  {
   "cell_type": "markdown",
   "metadata": {},
   "source": [
    "---\n",
    "_**Practice 3:**_  Let $\\mathbf{v2} = \\langle -1 , 1 , 1 \\rangle $ and $\\mathbf{u2} = \\langle 0 , 1, 4 \\rangle $. Find $\\mathbf{v2} \\times \\mathbf{u2}$ and assign it the variable $\\mathbf{w2}$. Then find the magnitude of $\\mathbf{w2}$.  \n",
    "_**Solution:**_"
   ]
  },
  {
   "cell_type": "code",
   "execution_count": null,
   "metadata": {},
   "outputs": [],
   "source": []
  },
  {
   "cell_type": "markdown",
   "metadata": {},
   "source": [
    "___\n",
    "_**Practice 4:**_ Find the area of the parallelogram with $\\mathbf{a} = \\langle 4,3,0 \\rangle$ and $\\mathbf{b} = \\langle 0,1,0 \\rangle$ as sides.  \n",
    "_**Solution:**_"
   ]
  },
  {
   "cell_type": "code",
   "execution_count": null,
   "metadata": {},
   "outputs": [],
   "source": []
  }
 ],
 "metadata": {
  "kernelspec": {
   "display_name": "Python 3",
   "language": "python",
   "name": "python3"
  },
  "language_info": {
   "codemirror_mode": {
    "name": "ipython",
    "version": 3
   },
   "file_extension": ".py",
   "mimetype": "text/x-python",
   "name": "python",
   "nbconvert_exporter": "python",
   "pygments_lexer": "ipython3",
   "version": "3.6.9"
  }
 },
 "nbformat": 4,
 "nbformat_minor": 4
}
