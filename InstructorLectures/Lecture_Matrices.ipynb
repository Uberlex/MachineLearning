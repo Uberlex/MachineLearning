{
 "cells": [
  {
   "cell_type": "markdown",
   "metadata": {},
   "source": [
    "# **Lecture One: Matrices**\n",
    ">In this section we are going to look at matrices and how we can work with them in Python.  \n",
    "We will also look at the differences between the notation in Python and the notation\n",
    "in mathematics. "
   ]
  },
  {
   "cell_type": "markdown",
   "metadata": {},
   "source": [
    "$ \\textrm{Def}^{n}: $ A **matrix** is a rectangular array of numbers or symbols arranged in rows by columns. \n",
    "$$ A = \\begin{bmatrix} a_{00} & a_{01} & a_{02} & a_{03} \\\\ a_{10} & a_{11} & a_{12} & a_{13} \\\\ a_{20} & a_{21} & a_{22} & a_{23} \\end{bmatrix} $$  \n",
    "The values of a matrix are called **entries**.\n",
    "\n",
    "**Note:** Python starts counting at 0."
   ]
  },
  {
   "cell_type": "code",
   "execution_count": 13,
   "metadata": {},
   "outputs": [],
   "source": [
    "import numpy as np # Numpy is a module that will help with working with matrices."
   ]
  },
  {
   "cell_type": "markdown",
   "metadata": {},
   "source": [
    "A module allows you to logically organize your Python code. Grouping related code into a module makes the code easier to understand and use. A module is a Python object with arbitrarily named attributes that you can bind and reference.\n",
    "\n",
    "Simply, a module is a file consisting of Python code. A module can define functions, classes and variables. A module can also include runnable code. https://www.tutorialspoint.com/python/python_modules.htm"
   ]
  },
  {
   "cell_type": "code",
   "execution_count": 9,
   "metadata": {},
   "outputs": [],
   "source": [
    "# This is what we will use for a matrix.\n",
    "A = np.array([[1, 3, 2, 0], \n",
    "              [4, 1, 2, 2], \n",
    "              [2, 1, 1, 1]]) "
   ]
  },
  {
   "cell_type": "markdown",
   "metadata": {},
   "source": [
    "Below are some good tools to help us work with matrics.  \n",
    "* np.shape() find the shape is (rows,columns). Comes from numpy. \n",
    "* type() tells us the type of object that we are working with. From p]Python\n",
    "* print() prints in Python 3. (note this is different than Python 2)"
   ]
  },
  {
   "cell_type": "markdown",
   "metadata": {},
   "source": [
    "In mathematics, a **tuple** is a finite ordered list (sequence) of elements. An n-tuple is a sequence (or ordered list) of n elements, where n is a non-negative integer. There is only one 0-tuple, an empty sequence, or empty tuple, as it is referred to. An n-tuple is defined inductively using the construction of an ordered pair. https://en.wikipedia.org/wiki/Tuple"
   ]
  },
  {
   "cell_type": "code",
   "execution_count": 4,
   "metadata": {},
   "outputs": [
    {
     "name": "stdout",
     "output_type": "stream",
     "text": [
      "[[1 3 2 0]\n",
      " [4 1 2 2]\n",
      " [2 1 1 1]]\n",
      "(3, 4)\n",
      "<class 'tuple'>\n",
      "<class 'int'>\n"
     ]
    },
    {
     "data": {
      "text/plain": [
       "7"
      ]
     },
     "execution_count": 4,
     "metadata": {},
     "output_type": "execute_result"
    }
   ],
   "source": [
    "A_shape = np.shape(A) #Shape will tell us the dimension of the matrix.\n",
    "print(A)\n",
    "print(A_shape) # Print the the shape that we named A_shape\n",
    "print(type(A_shape)) # use type to help see what we are working with \n",
    "print(type(A_shape[0]))\n",
    "A_shape[0] + 4 # We can add the values of the shape to other numbers."
   ]
  },
  {
   "cell_type": "code",
   "execution_count": 4,
   "metadata": {},
   "outputs": [
    {
     "data": {
      "text/plain": [
       "array([[1, 3, 2, 0],\n",
       "       [4, 1, 2, 2],\n",
       "       [2, 1, 1, 1]])"
      ]
     },
     "execution_count": 4,
     "metadata": {},
     "output_type": "execute_result"
    }
   ],
   "source": [
    "A # Will print, but not a great practice."
   ]
  },
  {
   "cell_type": "code",
   "execution_count": 5,
   "metadata": {},
   "outputs": [
    {
     "name": "stdout",
     "output_type": "stream",
     "text": [
      "[[1 3 2 0]\n",
      " [4 1 2 2]\n",
      " [2 1 1 1]]\n"
     ]
    }
   ],
   "source": [
    "print(A) # Note the difference between handwritten and python matrix notation."
   ]
  },
  {
   "cell_type": "markdown",
   "metadata": {},
   "source": [
    "_**Practice 1:**_ Read in the matrix $A = \\begin{bmatrix} 1 & 0 & 2 \\\\ 1 & 2 & 1 \\end{bmatrix} $"
   ]
  },
  {
   "cell_type": "markdown",
   "metadata": {},
   "source": [
    "_**Solution:**_"
   ]
  },
  {
   "cell_type": "code",
   "execution_count": 10,
   "metadata": {},
   "outputs": [],
   "source": [
    "A = np.array([[1,0,2], [1,2,1]])"
   ]
  },
  {
   "cell_type": "markdown",
   "metadata": {},
   "source": [
    "Now we want to start looking at how to access the elements, rows and columns of a matrix."
   ]
  },
  {
   "cell_type": "code",
   "execution_count": 11,
   "metadata": {},
   "outputs": [
    {
     "name": "stdout",
     "output_type": "stream",
     "text": [
      "[1 0 2]\n"
     ]
    }
   ],
   "source": [
    "print(A[0]) #Print the first row. Note, counting starts at 0 in python."
   ]
  },
  {
   "cell_type": "markdown",
   "metadata": {},
   "source": [
    "Below is the $a_{21}$ entry. Math vs Python counting takes a bit of mental gymnastics."
   ]
  },
  {
   "cell_type": "code",
   "execution_count": 14,
   "metadata": {},
   "outputs": [
    {
     "data": {
      "text/plain": [
       "0"
      ]
     },
     "execution_count": 14,
     "metadata": {},
     "output_type": "execute_result"
    }
   ],
   "source": [
    "A[0][1] # This is the a_21 entry. Math vs python counting takes a bit of mental gymnastics."
   ]
  },
  {
   "cell_type": "code",
   "execution_count": 16,
   "metadata": {},
   "outputs": [
    {
     "name": "stdout",
     "output_type": "stream",
     "text": [
      "[1 1]\n"
     ]
    }
   ],
   "source": [
    "print(A.T[0]) # This will extract the first column. The .T is the transpose of the matrix."
   ]
  },
  {
   "cell_type": "markdown",
   "metadata": {},
   "source": [
    "In linear algebra, the transpose of a matrix is an operator which flips a matrix over its diagonal, that is it switches the row and column indices of the matrix by producing another matrix denoted as $ \\mathbf{A}^T$. https://en.wikipedia.org/wiki/Transpose"
   ]
  },
  {
   "cell_type": "markdown",
   "metadata": {},
   "source": [
    "or"
   ]
  },
  {
   "cell_type": "code",
   "execution_count": 18,
   "metadata": {},
   "outputs": [
    {
     "data": {
      "text/plain": [
       "array([1, 0, 2])"
      ]
     },
     "execution_count": 18,
     "metadata": {},
     "output_type": "execute_result"
    }
   ],
   "source": [
    "A[0,:] # The : in Numpy will allow us to cycle through all the values for that row or column."
   ]
  },
  {
   "cell_type": "code",
   "execution_count": null,
   "metadata": {},
   "outputs": [],
   "source": [
    " "
   ]
  },
  {
   "cell_type": "markdown",
   "metadata": {},
   "source": [
    "---\n",
    "_**Practice 2:**_ Read in the matrix $A = \\begin{bmatrix} 4 & -1 & 2 \\\\ 4 & 2 & 1 \\end{bmatrix} $. Then\n",
    "1. Print just the first row.  \n",
    "2. Print the third column. \n",
    "3. Transpose the matrix.  \n",
    "\n",
    "**Don't forget to comment each line of your code**"
   ]
  },
  {
   "cell_type": "markdown",
   "metadata": {},
   "source": [
    "_**Solution:**_"
   ]
  },
  {
   "cell_type": "code",
   "execution_count": null,
   "metadata": {},
   "outputs": [],
   "source": []
  },
  {
   "cell_type": "code",
   "execution_count": null,
   "metadata": {},
   "outputs": [],
   "source": []
  },
  {
   "cell_type": "code",
   "execution_count": null,
   "metadata": {},
   "outputs": [],
   "source": []
  },
  {
   "cell_type": "code",
   "execution_count": null,
   "metadata": {},
   "outputs": [],
   "source": []
  },
  {
   "cell_type": "markdown",
   "metadata": {},
   "source": [
    "---\n",
    "## **Matrix operations**\n",
    "\n",
    "Now we are going to look at the three different operations involving matrices  \n",
    "**Scalar multiplication**, **matrix multiplication**, and **matrix addition**."
   ]
  },
  {
   "cell_type": "markdown",
   "metadata": {},
   "source": [
    "### **Scalar multiplication**  \n",
    "**Scalar multiplication** is the product of all of the entries of the matrix by a scalar value. "
   ]
  },
  {
   "cell_type": "code",
   "execution_count": 21,
   "metadata": {},
   "outputs": [],
   "source": [
    "A = np.array([[2,1],\n",
    "              [-1,6]])"
   ]
  },
  {
   "cell_type": "code",
   "execution_count": 22,
   "metadata": {},
   "outputs": [
    {
     "data": {
      "text/plain": [
       "array([[ 6,  3],\n",
       "       [-3, 18]])"
      ]
     },
     "execution_count": 22,
     "metadata": {},
     "output_type": "execute_result"
    }
   ],
   "source": [
    "3 * A #Scalar multiplication. We must use *"
   ]
  },
  {
   "cell_type": "code",
   "execution_count": 13,
   "metadata": {},
   "outputs": [
    {
     "ename": "SyntaxError",
     "evalue": "invalid syntax (<ipython-input-13-87237a605e0b>, line 1)",
     "output_type": "error",
     "traceback": [
      "\u001b[0;36m  File \u001b[0;32m\"<ipython-input-13-87237a605e0b>\"\u001b[0;36m, line \u001b[0;32m1\u001b[0m\n\u001b[0;31m    3A #Bad syntax, but something that we will use in mathematics.\u001b[0m\n\u001b[0m     ^\u001b[0m\n\u001b[0;31mSyntaxError\u001b[0m\u001b[0;31m:\u001b[0m invalid syntax\n"
     ]
    }
   ],
   "source": [
    "3A #Bad syntax, but something that we will use in mathematics."
   ]
  },
  {
   "cell_type": "markdown",
   "metadata": {},
   "source": [
    "### **Matrix Addition**\n",
    "**Matrix addition**  is the binary operation of adding matrices by adding the corresponding entries together.  \n",
    "> **Note:** that the matrices must have the same shape.</i>"
   ]
  },
  {
   "cell_type": "code",
   "execution_count": 27,
   "metadata": {},
   "outputs": [
    {
     "name": "stdout",
     "output_type": "stream",
     "text": [
      "(3, 4)\n",
      "(3, 4)\n",
      "[[2 3 3 0]\n",
      " [2 9 2 0]\n",
      " [4 1 8 1]] \n",
      " \n",
      " [[-1  3  2 12]\n",
      " [ 3  1  2  2]\n",
      " [ 2  1  1  1]]\n"
     ]
    }
   ],
   "source": [
    "C = np.array([[2, 3, 3, 0],[2, 9, 2, 0],[4, 1, 8, 1]])\n",
    "print(np.shape(C))\n",
    "D = np.array([[-1, 3, 2, 12],[3, 1, 2, 2],[2, 1, 1, 1]])\n",
    "print(np.shape(D))\n",
    "print(C,'\\n \\n', D) # Print the matrices with 2 new lines between them. "
   ]
  },
  {
   "cell_type": "code",
   "execution_count": 28,
   "metadata": {},
   "outputs": [
    {
     "name": "stdout",
     "output_type": "stream",
     "text": [
      "[[ 1  6  5 12]\n",
      " [ 5 10  4  2]\n",
      " [ 6  2  9  2]]\n"
     ]
    }
   ],
   "source": [
    "E = C + D\n",
    "print(E)"
   ]
  },
  {
   "cell_type": "markdown",
   "metadata": {},
   "source": [
    "### **Matrix Multiplication**\n",
    "**Matrix multiplication** of matrices $ \\mathbf{A} $ and $ \\mathbf{B} $ is a third matrix $ \\mathbf{C} $, i.e. $ \\mathbf{C} = \\mathbf{AB} $ , where $ \\mathbf{c}_{ij} $ is the dot  \n",
    "product of row $i$ of $ \\mathbf{A} $ and column $ \\mathbf{j} $ of $ \\mathbf{B} $. \n",
    "\n",
    "Now it is important to note that to multiply matrices they must have a compatable shape. This means that the number columns of the left matrix in the product must match the number of rows of the right matrix in the product.\n",
    "\n",
    " $$\\begin{array}{c} \\begin{bmatrix} 1 & -1 & 1\\\\ 4 & 2 & 2 \\end{bmatrix} \\\\ 2x3 \\end{array} \\begin{array}{c}\\begin{bmatrix} 3 & 2 \\\\ -1 & 1 \\\\ 4 & 2  \\end{bmatrix} \\\\ 3 x 2 \\end{array}.$$"
   ]
  },
  {
   "cell_type": "markdown",
   "metadata": {},
   "source": [
    "---\n",
    "**NOTATION WARNING**  \n",
    "Using * to multiply **will not** give use the matrix product. It is a different product.  \n"
   ]
  },
  {
   "cell_type": "code",
   "execution_count": 39,
   "metadata": {},
   "outputs": [
    {
     "name": "stdout",
     "output_type": "stream",
     "text": [
      "BAD EXAMPLE\n"
     ]
    },
    {
     "data": {
      "text/plain": [
       "array([[ 1,  1],\n",
       "       [16,  4]])"
      ]
     },
     "execution_count": 39,
     "metadata": {},
     "output_type": "execute_result"
    }
   ],
   "source": [
    "print('BAD EXAMPLE')\n",
    "A * A # AHHHHHHHHHHHHHHH what!!?!? Hadamard product. Not the matrix product."
   ]
  },
  {
   "cell_type": "markdown",
   "metadata": {},
   "source": [
    "---\n",
    "---\n",
    "_**Worked Example 1:**_ Multiply $A = \\begin{bmatrix} 1 & -1 & 1\\\\ 4 & 2 & 2 \\end{bmatrix} $ by $B = \\begin{bmatrix} 3 & 2 \\\\ -1 & 1 \\\\ 4 & 2  \\end{bmatrix} $."
   ]
  },
  {
   "cell_type": "code",
   "execution_count": 29,
   "metadata": {},
   "outputs": [],
   "source": [
    "A = np.array([[1,-1,1],[4,2,2]])"
   ]
  },
  {
   "cell_type": "code",
   "execution_count": 30,
   "metadata": {},
   "outputs": [
    {
     "name": "stdout",
     "output_type": "stream",
     "text": [
      "(2, 3)\n"
     ]
    }
   ],
   "source": [
    "print(np.shape(A))"
   ]
  },
  {
   "cell_type": "markdown",
   "metadata": {},
   "source": [
    "So $A$ is a 2$x$3 matrix. So we will need to multiply by a 3$x n$ matrix."
   ]
  },
  {
   "cell_type": "code",
   "execution_count": 31,
   "metadata": {},
   "outputs": [],
   "source": [
    "B = np.array([[3,2],[-1,1],[4,2]])"
   ]
  },
  {
   "cell_type": "code",
   "execution_count": 32,
   "metadata": {},
   "outputs": [
    {
     "name": "stdout",
     "output_type": "stream",
     "text": [
      "(3, 2)\n"
     ]
    }
   ],
   "source": [
    "print(np.shape(B))"
   ]
  },
  {
   "cell_type": "markdown",
   "metadata": {},
   "source": [
    "At this point we can see that the product matrix will be a $2x2$."
   ]
  },
  {
   "cell_type": "code",
   "execution_count": 35,
   "metadata": {},
   "outputs": [
    {
     "name": "stdout",
     "output_type": "stream",
     "text": [
      "[[11  1  7]\n",
      " [ 3  3  1]\n",
      " [12  0  8]]\n",
      "[[ 8  3]\n",
      " [18 14]]\n"
     ]
    }
   ],
   "source": [
    "print(np.dot(B,A))\n",
    "print(np.dot(A,B))"
   ]
  },
  {
   "cell_type": "markdown",
   "metadata": {},
   "source": [
    "So, $\\begin{bmatrix} 1 & -1 & 1\\\\ 4 & 2 & 2 \\end{bmatrix} \\begin{bmatrix} 3 & 2 \\\\ -1 & 1 \\\\ 4 & 2  \\end{bmatrix} = \\begin{bmatrix} 8 & 3 \\\\ -18 & 14 \\end{bmatrix} $."
   ]
  },
  {
   "cell_type": "markdown",
   "metadata": {},
   "source": [
    "---\n",
    "---\n",
    "_**Practice 3:**_ Multiply $A = \\begin{bmatrix} 1 & -1 \\\\ 4 & 2 \\end{bmatrix} $ by $B = \\begin{bmatrix} 3 & 2 \\\\ -1 & 1 \\end{bmatrix} $."
   ]
  },
  {
   "cell_type": "markdown",
   "metadata": {},
   "source": [
    "_**Solution:**_"
   ]
  },
  {
   "cell_type": "code",
   "execution_count": 36,
   "metadata": {},
   "outputs": [
    {
     "name": "stdout",
     "output_type": "stream",
     "text": [
      "[[ 4  1]\n",
      " [10 10]]\n",
      "[[11  1]\n",
      " [ 3  3]]\n"
     ]
    }
   ],
   "source": [
    "A = np.array([[1,-1],[4,2]])\n",
    "B = np.array([[3,2],[-1,1]])\n",
    "\n",
    "print(np.dot(A,B))\n",
    "print(np.dot(B,A))"
   ]
  },
  {
   "cell_type": "markdown",
   "metadata": {},
   "source": [
    "What does Python do if the dimensions are off?  \n",
    "Let's try and multiply $C = \\begin{bmatrix} 1 & -1 \\\\ 4 & 2 \\end{bmatrix} $ by $D = \\begin{bmatrix} 3 & 2 \\\\ -1 & 1 \\\\ 4 & 2  \\end{bmatrix} $."
   ]
  },
  {
   "cell_type": "code",
   "execution_count": 38,
   "metadata": {},
   "outputs": [
    {
     "data": {
      "text/plain": [
       "array([[ 1, -2,  2],\n",
       "       [16, -2, 20]])"
      ]
     },
     "execution_count": 38,
     "metadata": {},
     "output_type": "execute_result"
    }
   ],
   "source": [
    "C = np.array([[1,-1],[4,2]])\n",
    "D = np.array([[3,2],[-1,1],[4,2]])\n",
    "\n",
    "np.dot(C,D.T)"
   ]
  },
  {
   "cell_type": "code",
   "execution_count": null,
   "metadata": {},
   "outputs": [],
   "source": []
  },
  {
   "cell_type": "markdown",
   "metadata": {},
   "source": [
    "We can see that we get a **ValueError** and it tells us that that dimensions are off."
   ]
  },
  {
   "cell_type": "markdown",
   "metadata": {},
   "source": [
    "$ \\textrm{Def}^{n}: $ The **identity matrix** is a square matrix denoted $\\mathbf{I}$ that has ones on the main diagonal and zeros everwhere else. The identity for $\\mathbb{R}^{3x3}$ is, $I = \\begin{bmatrix} 1 & 0 & 0 \\\\ 0 & 1 & 0 \\\\ 0 & 0 & 1\\\\ \\end{bmatrix} $.  \n",
    "Like the number 1, the identity matrix leaves matrices unchanged under matrix multiplication. So,  \n",
    "$$\\mathbf{AI}= \\mathbf{IA} = \\mathbf{A}$$"
   ]
  },
  {
   "cell_type": "markdown",
   "metadata": {},
   "source": [
    "---\n",
    "## Inverse Matrices  \n",
    "$ \\textrm{Def}^{n}: $ The **inverse of a matrix $\\mathbf{A}$** is the matrix denoted $\\mathbf{A^{-1}}$ such that $\\mathbf{AA^{-1}} = \\mathbf{A^{-1}A} = \\mathbf{I}$."
   ]
  },
  {
   "cell_type": "code",
   "execution_count": null,
   "metadata": {},
   "outputs": [],
   "source": [
    "from numpy.linalg import inv # import the function inv from numpy.linalg."
   ]
  },
  {
   "cell_type": "code",
   "execution_count": null,
   "metadata": {},
   "outputs": [],
   "source": [
    "X = np.array([[1,2],[3,4]]) \n",
    "Y = np.linalg.inv(x) "
   ]
  },
  {
   "cell_type": "code",
   "execution_count": null,
   "metadata": {},
   "outputs": [],
   "source": [
    "print(Y)"
   ]
  },
  {
   "cell_type": "markdown",
   "metadata": {},
   "source": [
    "Now we should check by computing, $\\mathbf{XY}$."
   ]
  },
  {
   "cell_type": "code",
   "execution_count": null,
   "metadata": {},
   "outputs": [],
   "source": [
    "np.dot(X,Y)"
   ]
  },
  {
   "cell_type": "code",
   "execution_count": null,
   "metadata": {},
   "outputs": [],
   "source": [
    "np.dot(Y,X)"
   ]
  },
  {
   "cell_type": "markdown",
   "metadata": {},
   "source": [
    "Why didn't we get the exact identity?"
   ]
  },
  {
   "cell_type": "markdown",
   "metadata": {},
   "source": [
    "It should be noted that not all matrices have an inverse. To start, they must be square. In linear algebra we will study the **Invertable Matrix Theorem**. This theorem helps to show all of the connections between invertable matrices and linear algebra. For now we are going to pick one of the connections and use it. https://en.wikipedia.org/wiki/Invertible_matrix \n",
    "\n",
    "$ \\textrm{Def}^{n}: $ The **determinant** of a matrix is a scalar that can be computed from the entries of a square matrix. https://en.wikipedia.org/wiki/Determinant\n",
    "\n",
    "**Theorem:** A matrix $\\mathbf{A}$ is invertable if and only if $\\textrm{det}\\mathbf{A} \\neq 0$."
   ]
  },
  {
   "cell_type": "markdown",
   "metadata": {},
   "source": [
    "__**Worked Example 2:**__ Find the inverse of $C = \\begin{bmatrix} 1 & -1 \\\\ 4 & 2 \\end{bmatrix} $"
   ]
  },
  {
   "cell_type": "code",
   "execution_count": null,
   "metadata": {},
   "outputs": [],
   "source": [
    "from numpy.linalg import det"
   ]
  },
  {
   "cell_type": "markdown",
   "metadata": {},
   "source": [
    "First we check to see that the matrix has an inverse."
   ]
  },
  {
   "cell_type": "code",
   "execution_count": null,
   "metadata": {},
   "outputs": [],
   "source": [
    "C = np.array([[1,-1],[4,2]])\n",
    "print('The determinant of C is',np.linalg.det(C))"
   ]
  },
  {
   "cell_type": "markdown",
   "metadata": {},
   "source": [
    "Cool, so by the theorem, $C$ will have an inverse."
   ]
  },
  {
   "cell_type": "code",
   "execution_count": null,
   "metadata": {},
   "outputs": [],
   "source": [
    "np.linalg.inv(C)"
   ]
  },
  {
   "cell_type": "markdown",
   "metadata": {},
   "source": [
    "__**Practice 4:**__ Find the inverse of $W = \\begin{bmatrix} 0 & -3 & 2 \\\\ 1 & -4 & 2 \\\\ -3 & 4 & 1 \\end{bmatrix} $. Check to make sure that it is in fact invertable. (Hint: use the determinant)"
   ]
  },
  {
   "cell_type": "code",
   "execution_count": null,
   "metadata": {},
   "outputs": [],
   "source": []
  }
 ],
 "metadata": {
  "kernelspec": {
   "display_name": "Python 3",
   "language": "python",
   "name": "python3"
  },
  "language_info": {
   "codemirror_mode": {
    "name": "ipython",
    "version": 3
   },
   "file_extension": ".py",
   "mimetype": "text/x-python",
   "name": "python",
   "nbconvert_exporter": "python",
   "pygments_lexer": "ipython3",
   "version": "3.6.9"
  },
  "toc-autonumbering": false,
  "toc-showcode": false,
  "toc-showmarkdowntxt": false
 },
 "nbformat": 4,
 "nbformat_minor": 4
}
