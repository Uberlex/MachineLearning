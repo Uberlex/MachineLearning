{
 "cells": [
  {
   "cell_type": "code",
   "execution_count": 2,
   "id": "seven-driver",
   "metadata": {},
   "outputs": [],
   "source": [
    "import pandas as pd\n",
    "import numpy as np\n",
    "from tqdm import tqdm\n",
    "from scipy import stats\n",
    "\n",
    "import time"
   ]
  },
  {
   "cell_type": "code",
   "execution_count": 3,
   "id": "eligible-strain",
   "metadata": {},
   "outputs": [],
   "source": [
    "raw_training_data = pd.read_csv(\"~/Files/Data/mnist_train.csv\")\n",
    "raw_testing_data = pd.read_csv(\"~/Answers/Homework_1/mnist_test.csv\")"
   ]
  },
  {
   "cell_type": "code",
   "execution_count": 4,
   "id": "radio-floating",
   "metadata": {},
   "outputs": [
    {
     "data": {
      "text/plain": [
       "(10000, 785)"
      ]
     },
     "execution_count": 4,
     "metadata": {},
     "output_type": "execute_result"
    }
   ],
   "source": [
    "np.shape(raw_testing_data)"
   ]
  },
  {
   "cell_type": "code",
   "execution_count": 5,
   "id": "painted-mobile",
   "metadata": {},
   "outputs": [],
   "source": [
    "raw_training_data_array = np.array(raw_training_data)\n",
    "raw_testing_data_array = np.array(raw_testing_data)"
   ]
  },
  {
   "cell_type": "code",
   "execution_count": 6,
   "id": "sunset-blake",
   "metadata": {},
   "outputs": [],
   "source": [
    "def distance(x1,x2):\n",
    "    return np.sum((np.sum([x1,-x2], axis=0) ** 2))"
   ]
  },
  {
   "cell_type": "code",
   "execution_count": 11,
   "id": "golden-storm",
   "metadata": {},
   "outputs": [
    {
     "name": "stderr",
     "output_type": "stream",
     "text": [
      "\n",
      "  0%|          | 0/100 [00:00<?, ?it/s]\u001b[A\n",
      "  4%|▍         | 4/100 [00:00<00:02, 38.14it/s]\u001b[A\n",
      "  9%|▉         | 9/100 [00:00<00:02, 40.44it/s]\u001b[A\n",
      " 14%|█▍        | 14/100 [00:00<00:02, 41.20it/s]\u001b[A\n",
      " 19%|█▉        | 19/100 [00:00<00:01, 41.48it/s]\u001b[A\n",
      " 24%|██▍       | 24/100 [00:00<00:01, 41.59it/s]\u001b[A\n",
      " 29%|██▉       | 29/100 [00:00<00:01, 41.76it/s]\u001b[A\n",
      " 34%|███▍      | 34/100 [00:00<00:01, 40.90it/s]\u001b[A\n",
      " 39%|███▉      | 39/100 [00:00<00:01, 41.24it/s]\u001b[A\n",
      " 44%|████▍     | 44/100 [00:01<00:01, 41.47it/s]\u001b[A\n",
      " 49%|████▉     | 49/100 [00:01<00:01, 41.61it/s]\u001b[A\n",
      " 54%|█████▍    | 54/100 [00:01<00:01, 41.74it/s]\u001b[A\n",
      " 59%|█████▉    | 59/100 [00:01<00:00, 41.85it/s]\u001b[A\n",
      " 64%|██████▍   | 64/100 [00:01<00:00, 41.94it/s]\u001b[A\n",
      " 69%|██████▉   | 69/100 [00:01<00:00, 41.97it/s]\u001b[A\n",
      " 74%|███████▍  | 74/100 [00:01<00:00, 41.80it/s]\u001b[A\n",
      " 79%|███████▉  | 79/100 [00:01<00:00, 41.57it/s]\u001b[A\n",
      " 84%|████████▍ | 84/100 [00:02<00:00, 41.67it/s]\u001b[A\n",
      " 89%|████████▉ | 89/100 [00:02<00:00, 41.72it/s]\u001b[A\n",
      " 94%|█████████▍| 94/100 [00:02<00:00, 39.65it/s]\u001b[A\n",
      "100%|██████████| 100/100 [00:02<00:00, 40.83it/s][A"
     ]
    },
    {
     "name": "stdout",
     "output_type": "stream",
     "text": [
      "Score 0.83\n",
      "It took 2.455432415008545\n"
     ]
    },
    {
     "name": "stderr",
     "output_type": "stream",
     "text": [
      "\n"
     ]
    }
   ],
   "source": [
    "score_A = 0\n",
    "total_A = 0\n",
    "\n",
    "start = time.time()\n",
    "\n",
    "for y in tqdm(raw_testing_data_array[:100]):\n",
    "    distances = []\n",
    "    answer = y[0]\n",
    "    total_A += 1\n",
    "    \n",
    "    for x in raw_training_data_array[:1000]:\n",
    "        distances.append(distance(x[:], y))\n",
    "    if answer == stats.mode(raw_training_data_array[np.argsort(distances)[1:5]].T[0])[0][0]:\n",
    "        score_A += 1\n",
    "        \n",
    "end = time.time()\n",
    "\n",
    "print(\"Score\", score_A / total_A)  \n",
    "print(\"It took\", end - start)\n"
   ]
  },
  {
   "cell_type": "code",
   "execution_count": null,
   "id": "welcome-bankruptcy",
   "metadata": {},
   "outputs": [],
   "source": [
    "from sklearn.neighbors import KNeighborsClassifier\n",
    "model_knn = KNeighborsClassifier(n_neighbors=5)\n",
    "model_knn.fit(raw_training_data_array[:,1:], raw_training_data_array[:,0])"
   ]
  },
  {
   "cell_type": "code",
   "execution_count": 67,
   "id": "nuclear-vintage",
   "metadata": {},
   "outputs": [
    {
     "name": "stdout",
     "output_type": "stream",
     "text": [
      "100 @ 21.65464472770691 Current score: 0.99\n",
      "200 @ 43.096628189086914 Current score: 0.985\n",
      "300 @ 64.48413300514221 Current score: 0.98\n",
      "400 @ 85.8466911315918 Current score: 0.97\n",
      "500 @ 107.23641872406006 Current score: 0.966\n",
      "600 @ 128.4284782409668 Current score: 0.9633333333333334\n",
      "700 @ 149.6436469554901 Current score: 0.9628571428571429\n",
      "800 @ 170.82926869392395 Current score: 0.96375\n",
      "900 @ 192.64977836608887 Current score: 0.9633333333333334\n",
      "1000 @ 214.8639054298401 Current score: 0.961\n",
      "1100 @ 236.2266538143158 Current score: 0.9590909090909091\n",
      "1200 @ 257.58667039871216 Current score: 0.96\n",
      "1300 @ 278.91972970962524 Current score: 0.9576923076923077\n",
      "1400 @ 300.26725792884827 Current score: 0.9571428571428572\n",
      "1500 @ 321.60746455192566 Current score: 0.958\n",
      "1600 @ 345.04151916503906 Current score: 0.9575\n",
      "1700 @ 366.37543082237244 Current score: 0.9594117647058824\n",
      "1800 @ 387.72194504737854 Current score: 0.9572222222222222\n",
      "1900 @ 409.09867811203003 Current score: 0.9563157894736842\n",
      "2000 @ 430.49596428871155 Current score: 0.9565\n",
      "2100 @ 452.30771231651306 Current score: 0.9547619047619048\n",
      "2200 @ 474.09654450416565 Current score: 0.9522727272727273\n",
      "2300 @ 495.4363615512848 Current score: 0.9521739130434783\n",
      "2400 @ 516.8329417705536 Current score: 0.9520833333333333\n",
      "2500 @ 538.7538802623749 Current score: 0.9512\n",
      "2600 @ 560.1196000576019 Current score: 0.9519230769230769\n",
      "2700 @ 581.4855051040649 Current score: 0.9525925925925925\n",
      "2800 @ 602.8599886894226 Current score: 0.9532142857142857\n",
      "2900 @ 624.4746170043945 Current score: 0.9537931034482758\n",
      "3000 @ 645.8461728096008 Current score: 0.9536666666666667\n",
      "3100 @ 667.2117264270782 Current score: 0.9538709677419355\n",
      "3200 @ 688.5907893180847 Current score: 0.9546875\n",
      "3300 @ 710.266191482544 Current score: 0.9548484848484848\n",
      "3400 @ 731.614294052124 Current score: 0.9552941176470588\n",
      "3500 @ 752.9422516822815 Current score: 0.9557142857142857\n",
      "3600 @ 774.3233091831207 Current score: 0.9552777777777778\n",
      "3700 @ 795.6999890804291 Current score: 0.9556756756756757\n",
      "3800 @ 817.0644645690918 Current score: 0.955\n",
      "3900 @ 838.4371130466461 Current score: 0.9548717948717949\n",
      "4000 @ 859.7863121032715 Current score: 0.955\n",
      "4100 @ 881.2098340988159 Current score: 0.9546341463414634\n",
      "4200 @ 902.9146473407745 Current score: 0.9542857142857143\n",
      "4300 @ 924.3470878601074 Current score: 0.9548837209302325\n",
      "4400 @ 945.6738679409027 Current score: 0.9545454545454546\n",
      "4500 @ 967.0421090126038 Current score: 0.9544444444444444\n",
      "4600 @ 988.4773576259613 Current score: 0.9545652173913044\n",
      "4700 @ 1011.1301951408386 Current score: 0.9544680851063829\n",
      "4800 @ 1032.8463587760925 Current score: 0.9545833333333333\n",
      "4900 @ 1054.01695728302 Current score: 0.9538775510204082\n",
      "5000 @ 1075.245036125183 Current score: 0.9546\n",
      "5100 @ 1096.896436214447 Current score: 0.9552941176470588\n",
      "5200 @ 1118.2481081485748 Current score: 0.9559615384615384\n",
      "5300 @ 1139.594098329544 Current score: 0.9566037735849057\n",
      "5400 @ 1160.9801678657532 Current score: 0.9574074074074074\n",
      "5500 @ 1182.5618579387665 Current score: 0.9581818181818181\n",
      "5600 @ 1204.0357134342194 Current score: 0.9585714285714285\n",
      "5700 @ 1225.3808879852295 Current score: 0.9587719298245614\n",
      "5800 @ 1246.7337296009064 Current score: 0.9589655172413794\n",
      "5900 @ 1268.2990581989288 Current score: 0.9588135593220339\n",
      "6000 @ 1289.7220573425293 Current score: 0.9586666666666667\n",
      "6100 @ 1311.0548281669617 Current score: 0.9581967213114754\n",
      "6200 @ 1332.436096906662 Current score: 0.9583870967741935\n",
      "6300 @ 1353.8000729084015 Current score: 0.959047619047619\n",
      "6400 @ 1375.18213057518 Current score: 0.9596875\n",
      "6500 @ 1396.63436794281 Current score: 0.9603076923076923\n",
      "6600 @ 1418.0545389652252 Current score: 0.96\n",
      "6700 @ 1439.4623098373413 Current score: 0.9602985074626865\n",
      "6800 @ 1460.8595571517944 Current score: 0.9608823529411765\n",
      "6900 @ 1482.2696940898895 Current score: 0.9614492753623188\n",
      "7000 @ 1503.6563911437988 Current score: 0.962\n",
      "7100 @ 1525.0219480991364 Current score: 0.9625352112676057\n",
      "7200 @ 1546.3529782295227 Current score: 0.9629166666666666\n",
      "7300 @ 1568.1407299041748 Current score: 0.9634246575342466\n",
      "7400 @ 1589.6238436698914 Current score: 0.9639189189189189\n",
      "7500 @ 1611.034143447876 Current score: 0.964\n",
      "7600 @ 1632.1278581619263 Current score: 0.9643421052631579\n",
      "7700 @ 1653.551284313202 Current score: 0.9646753246753247\n",
      "7800 @ 1674.991404056549 Current score: 0.965\n",
      "7900 @ 1696.4033160209656 Current score: 0.9653164556962025\n",
      "8000 @ 1717.854984998703 Current score: 0.96575\n",
      "8100 @ 1739.2487757205963 Current score: 0.9658024691358025\n",
      "8200 @ 1760.63547372818 Current score: 0.9662195121951219\n",
      "8300 @ 1782.0768513679504 Current score: 0.9662650602409638\n",
      "8400 @ 1803.3559198379517 Current score: 0.9665476190476191\n",
      "8500 @ 1824.7598855495453 Current score: 0.9667058823529412\n",
      "8600 @ 1846.6977519989014 Current score: 0.9668604651162791\n",
      "8700 @ 1868.1301126480103 Current score: 0.9672413793103448\n",
      "8800 @ 1889.5222098827362 Current score: 0.9676136363636364\n",
      "8900 @ 1910.9155597686768 Current score: 0.9679775280898877\n",
      "9000 @ 1932.2985882759094 Current score: 0.9683333333333334\n",
      "9100 @ 1953.6897568702698 Current score: 0.9683516483516483\n",
      "9200 @ 1975.6414620876312 Current score: 0.9686956521739131\n",
      "9300 @ 1997.0787782669067 Current score: 0.9689247311827957\n",
      "9400 @ 2018.5056281089783 Current score: 0.9692553191489361\n",
      "9500 @ 2040.304450750351 Current score: 0.9695789473684211\n",
      "9600 @ 2061.741441488266 Current score: 0.9697916666666667\n",
      "9700 @ 2083.5977771282196 Current score: 0.969381443298969\n",
      "9800 @ 2104.9988372325897 Current score: 0.9688775510204082\n",
      "9900 @ 2126.402641057968 Current score: 0.9687878787878788\n",
      "Score 0.9687\n",
      "It took 2147.5938832759857\n"
     ]
    }
   ],
   "source": [
    "score_Sci = 0\n",
    "i=1\n",
    "start = time.time()\n",
    "\n",
    "while i < np.shape(raw_testing_data_array)[0]:\n",
    "    if model_knn.predict([raw_testing_data_array[i][1:]]) == raw_testing_data_array[i][0]:\n",
    "        score_Sci+=1\n",
    "    \n",
    "    end = time.time()\n",
    "    \n",
    "    if i%100 == 0:\n",
    "        print(i, \"@\", end - start, \"Current score:\", score_Sci / i)\n",
    "    \n",
    "    i+=1\n",
    "    \n",
    "end = time.time()\n",
    "\n",
    "print(\"Score\", score_Sci / i)  \n",
    "print(\"It took\", end - start)"
   ]
  },
  {
   "cell_type": "code",
   "execution_count": 45,
   "id": "neural-arlington",
   "metadata": {},
   "outputs": [
    {
     "data": {
      "text/plain": [
       "(30, 785)"
      ]
     },
     "execution_count": 45,
     "metadata": {},
     "output_type": "execute_result"
    }
   ],
   "source": [
    "np.shape(raw_testing_data_array)"
   ]
  },
  {
   "cell_type": "code",
   "execution_count": 54,
   "id": "lesser-concert",
   "metadata": {},
   "outputs": [
    {
     "data": {
      "text/plain": [
       "2000.0"
      ]
     },
     "execution_count": 54,
     "metadata": {},
     "output_type": "execute_result"
    }
   ],
   "source": [
    "60000/30"
   ]
  },
  {
   "cell_type": "code",
   "execution_count": 55,
   "id": "federal-secret",
   "metadata": {},
   "outputs": [
    {
     "data": {
      "text/plain": [
       "33.333333333333336"
      ]
     },
     "execution_count": 55,
     "metadata": {},
     "output_type": "execute_result"
    }
   ],
   "source": [
    "2000/60"
   ]
  },
  {
   "cell_type": "code",
   "execution_count": 68,
   "id": "timely-hands",
   "metadata": {},
   "outputs": [
    {
     "data": {
      "text/plain": [
       "166.66666666666666"
      ]
     },
     "execution_count": 68,
     "metadata": {},
     "output_type": "execute_result"
    }
   ],
   "source": [
    "10000/60"
   ]
  },
  {
   "cell_type": "code",
   "execution_count": 69,
   "id": "african-victory",
   "metadata": {},
   "outputs": [
    {
     "data": {
      "text/plain": [
       "6.944166666666667"
      ]
     },
     "execution_count": 69,
     "metadata": {},
     "output_type": "execute_result"
    }
   ],
   "source": [
    "166.66/24"
   ]
  },
  {
   "cell_type": "code",
   "execution_count": null,
   "id": "continuous-jonathan",
   "metadata": {},
   "outputs": [],
   "source": []
  }
 ],
 "metadata": {
  "kernelspec": {
   "display_name": "Python 3",
   "language": "python",
   "name": "python3"
  },
  "language_info": {
   "codemirror_mode": {
    "name": "ipython",
    "version": 3
   },
   "file_extension": ".py",
   "mimetype": "text/x-python",
   "name": "python",
   "nbconvert_exporter": "python",
   "pygments_lexer": "ipython3",
   "version": "3.6.9"
  }
 },
 "nbformat": 4,
 "nbformat_minor": 5
}
