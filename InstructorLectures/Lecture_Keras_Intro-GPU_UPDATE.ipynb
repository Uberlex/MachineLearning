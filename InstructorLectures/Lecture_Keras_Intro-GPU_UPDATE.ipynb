{
 "cells": [
  {
   "cell_type": "markdown",
   "id": "still-luther",
   "metadata": {},
   "source": [
    "# **Lecture: Keras Introduction**"
   ]
  },
  {
   "cell_type": "code",
   "execution_count": null,
   "id": "orange-coalition",
   "metadata": {},
   "outputs": [],
   "source": [
    "# Pandas for the data. \n",
    "import pandas as pd\n",
    "import numpy as np\n",
    "import matplotlib.pyplot as plt"
   ]
  },
  {
   "cell_type": "code",
   "execution_count": null,
   "id": "popular-samoa",
   "metadata": {},
   "outputs": [],
   "source": [
    "# Import tensorflow.\n",
    "import tensorflow as tf\n",
    "# Import the Keras tools.\n",
    "from tensorflow import keras\n",
    "from tensorflow.keras import layers\n",
    "from tensorflow.keras import models\n",
    "from tensorflow.keras.utils import to_categorical\n",
    "\n",
    "print(\"Tensorflow version:\", tf.__version__)\n",
    "print(\"Pandas version:\", pd.__version__)\n",
    "print(\"Keras version:\", keras.__version__)\n",
    "\n",
    "tf.random.set_seed(1337)\n",
    "\n",
    "physical_devices = tf.config.list_physical_devices('GPU') \n",
    "print(physical_devices)\n",
    "for gpu_instance in physical_devices: \n",
    "    tf.config.experimental.set_memory_growth(gpu_instance, True)"
   ]
  },
  {
   "cell_type": "markdown",
   "id": "opening-filter",
   "metadata": {},
   "source": [
    "## **The Data**"
   ]
  },
  {
   "cell_type": "code",
   "execution_count": null,
   "id": "hispanic-discount",
   "metadata": {},
   "outputs": [],
   "source": [
    "# Original data\n",
    "DATA = pd.read_csv(\"~/Files/Data/iris_KNN.csv\", \n",
    "                   names=[\"index\",'SepalLengthCm', 'SepalWidthCm', 'PetalLengthCm',\n",
    "                          'PetalWidthCm',\"Species\"],\n",
    "                  header=None).iloc[1:]\n",
    "DATA\n",
    "DATA.head()\n",
    "\n",
    "# Break into training and validation\n",
    "val_dataframe = DATA.sample(frac=0.2, random_state=1337)\n",
    "train_dataframe = DATA.drop(val_dataframe.index).sample(frac=1, random_state=1337)\n",
    "train_dataframe.keys()"
   ]
  },
  {
   "cell_type": "code",
   "execution_count": null,
   "id": "western-victor",
   "metadata": {},
   "outputs": [],
   "source": [
    "# Make the training data.\n",
    "X_train = train_dataframe[[\"SepalLengthCm\", \"SepalWidthCm\", \"PetalLengthCm\", \"PetalWidthCm\"]].astype(np.float32)\n",
    "y_train = np.abs(train_dataframe[[\"Species\"]].astype(np.float32) - 1)\n",
    "\n",
    "y_train\n",
    "# train_labels = to_categorical(y_train)"
   ]
  },
  {
   "cell_type": "markdown",
   "id": "pending-visiting",
   "metadata": {},
   "source": [
    "## **The Network**"
   ]
  },
  {
   "cell_type": "code",
   "execution_count": null,
   "id": "chronic-romance",
   "metadata": {},
   "outputs": [],
   "source": [
    "# Setup the network layers. \n",
    "model = models.Sequential([\n",
    "layers.Dense(10, activation='relu', input_shape=(4,)),\n",
    "layers.Dropout(.1, seed = 1337),\n",
    "layers.Dense(1,  activation='sigmoid')])"
   ]
  },
  {
   "cell_type": "code",
   "execution_count": null,
   "id": "seven-group",
   "metadata": {},
   "outputs": [],
   "source": [
    "model.compile(optimizer='sgd', loss='binary_crossentropy', metrics=['accuracy', 'mse'])"
   ]
  },
  {
   "cell_type": "code",
   "execution_count": null,
   "id": "innocent-corner",
   "metadata": {},
   "outputs": [],
   "source": [
    "keras.utils.plot_model(model, show_shapes=True, rankdir=\"LR\")"
   ]
  },
  {
   "cell_type": "code",
   "execution_count": null,
   "id": "requested-helmet",
   "metadata": {},
   "outputs": [],
   "source": [
    "model.summary()"
   ]
  },
  {
   "cell_type": "markdown",
   "id": "finnish-employment",
   "metadata": {},
   "source": [
    "## **Training**"
   ]
  },
  {
   "cell_type": "code",
   "execution_count": null,
   "id": "challenging-latex",
   "metadata": {},
   "outputs": [],
   "source": [
    "history_info = model.fit(X_train, y_train, epochs=500, batch_size=40, verbose=2)"
   ]
  },
  {
   "cell_type": "code",
   "execution_count": null,
   "id": "ranking-romance",
   "metadata": {},
   "outputs": [],
   "source": [
    "history_info.history.keys()"
   ]
  },
  {
   "cell_type": "code",
   "execution_count": null,
   "id": "collectible-boundary",
   "metadata": {},
   "outputs": [],
   "source": [
    "# Accuracy plot\n",
    "plt.plot(history_info.history['accuracy'])\n",
    "plt.title('model accuracy')\n",
    "plt.ylabel('accuracy')\n",
    "plt.xlabel('epoch')\n",
    "plt.legend(['train', 'validation'], loc='upper left')\n",
    "plt.show()\n",
    "\n",
    "# Loss plot\n",
    "plt.plot(history_info.history['loss'])\n",
    "plt.title('model loss')\n",
    "plt.ylabel('loss')\n",
    "plt.xlabel('epoch')\n",
    "plt.legend(['train', 'validation'], loc='upper left')\n",
    "plt.show()\n",
    "\n",
    "# Loss plot\n",
    "plt.plot(history_info.history['mse'])\n",
    "plt.title('model mse')\n",
    "plt.ylabel('mse')\n",
    "plt.xlabel('epoch')\n",
    "plt.legend(['train', 'validation'], loc='upper left')\n",
    "plt.show()"
   ]
  },
  {
   "cell_type": "markdown",
   "id": "heard-noise",
   "metadata": {},
   "source": [
    "## **Deploy**"
   ]
  },
  {
   "cell_type": "code",
   "execution_count": null,
   "id": "inside-attitude",
   "metadata": {},
   "outputs": [],
   "source": [
    "model.predict([[.45,.45,.45,.34]])"
   ]
  },
  {
   "cell_type": "code",
   "execution_count": null,
   "id": "controversial-yeast",
   "metadata": {},
   "outputs": [],
   "source": []
  },
  {
   "cell_type": "code",
   "execution_count": null,
   "id": "imported-multiple",
   "metadata": {},
   "outputs": [],
   "source": []
  }
 ],
 "metadata": {
  "kernelspec": {
   "display_name": "Python 3",
   "language": "python",
   "name": "python3"
  },
  "language_info": {
   "codemirror_mode": {
    "name": "ipython",
    "version": 3
   },
   "file_extension": ".py",
   "mimetype": "text/x-python",
   "name": "python",
   "nbconvert_exporter": "python",
   "pygments_lexer": "ipython3",
   "version": "3.6.9"
  }
 },
 "nbformat": 4,
 "nbformat_minor": 5
}
