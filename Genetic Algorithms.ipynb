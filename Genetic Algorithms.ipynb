{
 "cells": [
  {
   "cell_type": "markdown",
   "id": "accessible-republic",
   "metadata": {},
   "source": [
    "# **Genetic Algorithms**\n",
    "---"
   ]
  },
  {
   "cell_type": "markdown",
   "id": "corresponding-piano",
   "metadata": {},
   "source": [
    "Target = [0, 1, 2, 3, 4]\n",
    "- Client-based\n",
    "- CONTROL VARIABLE"
   ]
  },
  {
   "cell_type": "markdown",
   "id": "retired-summary",
   "metadata": {},
   "source": [
    "Process: Generation\n",
    "- Parents_1 = [$x_1$ ,$x_2$ ,$x_3$ ,$x_4$ ,$x_5$]\n",
    "    - random values in the domain of the target\n",
    "- Parents_2 = [x'bar'1 ,x'bar'2 ,x'bar'3 ,x'bar'4 ,x'bar'5]\n",
    "    - Info extraction from parents = probability algorithm\n",
    "\n",
    "- Creation of 'descendant' vector\n",
    "    - Not limited to the creation of a single vector\n",
    "        - Same parents can make multiple vectors\n",
    "    - Same length as the Target\n",
    "    - descendant = [x'bar'1 ,$x_2$ ,x'bar'3 ,$x_4$ ,x'bar'5]\n",
    "        - Fulfill the task better than the parents\n",
    "        - Compare against the target and score it via Euclidean Norm\n",
    "\n",
    "- Sort 100 descendants for the top two best fitness\n",
    "    - Fitness = defined by user\n",
    "        - ex: difference from Target via Euclidean Norm\n",
    "    - Top two become the next parents\n",
    "        - Best chance to fulfill the target\n",
    "\n",
    "\n",
    "\n",
    "- Probability Factor:\n",
    "    - One random integer is introduced to the generations, resulting in change in output\n",
    "    - Machine learning version of 'mutation'\n",
    "\n",
    "- Process continues until target is reached\n",
    "\n",
    "- Measurement of how fast the algorithm can adapt\n",
    "\n",
    "- Future Implications\n",
    "    - Operation without external network connection\n",
    "    - Self-sustained learning without manual reinforcements or intervention\n"
   ]
  },
  {
   "cell_type": "code",
   "execution_count": null,
   "id": "molecular-biology",
   "metadata": {},
   "outputs": [],
   "source": []
  }
 ],
 "metadata": {
  "kernelspec": {
   "display_name": "Python 3",
   "language": "python",
   "name": "python3"
  },
  "language_info": {
   "codemirror_mode": {
    "name": "ipython",
    "version": 3
   },
   "file_extension": ".py",
   "mimetype": "text/x-python",
   "name": "python",
   "nbconvert_exporter": "python",
   "pygments_lexer": "ipython3",
   "version": "3.6.9"
  }
 },
 "nbformat": 4,
 "nbformat_minor": 5
}
