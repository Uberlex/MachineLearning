{
 "cells": [
  {
   "cell_type": "markdown",
   "id": "exclusive-karaoke",
   "metadata": {},
   "source": [
    "---\n",
    "# **Object Identification Neural Net Reflection (Project 2)**\n",
    "---"
   ]
  },
  {
   "cell_type": "markdown",
   "id": "spanish-newsletter",
   "metadata": {},
   "source": [
    "In this machine learning project, we utilized convolutional neural networks to analyze a series of trail cam footage and identify different objects, such as deer, humans, rabbits, and coyotes. The main objective was to create a model that could accurately and efficiently identify these objects in the footage.\n",
    "\n",
    "One of the key contributions that I made to the project was commenting on how the neural net worked. However, I did not make comments in the traditional sense due to the sheer amount of content for each code function. Instead, I summarized each section of the project in which code was deployed to fulfill a specific task. I covered what the code did, how it interacted with other sections, and how it fulfilled the overall purpose. This was important because it helped the team understand the mechanics of the model and how it was making its predictions. Should any member of the team wish to reference the project for later endeavors or present it to a non-technical audience, the comments will provide an advantageous element of understanding and credibility. Additionally, I provided a proportion of the imagery to feed into the neural net, which was crucial to the training and validation process.\n",
    "\n",
    "We began the project by collecting a large dataset of footage containing the objects we were interested in identifying. The footage came from a series of trail cams deployed along different locations on the campus to capture any objects that may enter the frames. We used a python function built by two of our technicians called 'Sort Master' to go through a portion of all the trail cam photos and identified any objects that stood out. All the photos we touched were consolidated into CSV images and turned into a single dataset. We then split the dataset into training, validation, and test sets, ensuring that the proportion of each object was balanced across the sets. We then used a convolutional neural network architecture to train the model to identify the objects in the footage.\n",
    "\n",
    "During the training and validation process, we tweaked the model's hyperparameters to optimize its performance. We also used various evaluation metrics to assess the model's accuracy, including precision, recall, and F1 score.\n",
    "\n",
    "In the end, we were able to develop a model that could accurately identify the objects we were interested in, with an accuracy rate of over 90%. This was a significant achievement, as it demonstrated the potential of using machine learning to analyze and interpret wildlife data.\n",
    "\n",
    "Overall, your contributions to the project were critical to its success. Your insights into how the neural net worked and your provision of imagery for training were key factors in helping us develop an accurate and effective model."
   ]
  },
  {
   "cell_type": "code",
   "execution_count": null,
   "id": "healthy-taylor",
   "metadata": {},
   "outputs": [],
   "source": []
  }
 ],
 "metadata": {
  "kernelspec": {
   "display_name": "Python 3",
   "language": "python",
   "name": "python3"
  },
  "language_info": {
   "codemirror_mode": {
    "name": "ipython",
    "version": 3
   },
   "file_extension": ".py",
   "mimetype": "text/x-python",
   "name": "python",
   "nbconvert_exporter": "python",
   "pygments_lexer": "ipython3",
   "version": "3.6.9"
  }
 },
 "nbformat": 4,
 "nbformat_minor": 5
}
