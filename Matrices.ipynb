{
 "cells": [
  {
   "cell_type": "code",
   "execution_count": null,
   "id": "revolutionary-establishment",
   "metadata": {},
   "outputs": [],
   "source": [
    "import numpy as np"
   ]
  },
  {
   "cell_type": "markdown",
   "id": "biological-bookmark",
   "metadata": {},
   "source": [
    "Module: logically organizing Python code; is a file consisting of Python code\n",
    "\n",
    "- arbitrarily named attributes that can be binded and referenced.\n",
    "\n",
    "- define functions, classes and variables. \n",
    "\n",
    "- Includes runnable code.\n",
    "\n",
    "- grouping related code into a module \n",
    "    * makes the code easier to understand and use. A module is a Python object with \n",
    "\n",
    "- https://www.tutorialspoint.com/python/python_modules.htm"
   ]
  },
  {
   "cell_type": "markdown",
   "id": "extra-uzbekistan",
   "metadata": {},
   "source": [
    "# **Matrices**\n",
    "---"
   ]
  },
  {
   "cell_type": "markdown",
   "id": "convenient-security",
   "metadata": {},
   "source": [
    "Definition: singularly a matrix; a list or array of numbers or symbols used to organize a group of variables or numbers in order to fulfill a specific purposes.\n",
    "\n",
    "- Typically arranged in a rectangular group\n",
    "    \n",
    "- Values inside the matrix are called ENTRIES \n",
    "    \n",
    "- \"cubes of data\" to train neural networks for an algorithim or new solution to a previously unknown problem "
   ]
  },
  {
   "cell_type": "code",
   "execution_count": null,
   "id": "civil-roads",
   "metadata": {},
   "outputs": [],
   "source": [
    "# Representation in python\n",
    "matrix = np.array([[1, 2, 3],\n",
    "                 [4, 5, 6],\n",
    "                 [7, 8, 9]])"
   ]
  },
  {
   "cell_type": "markdown",
   "id": "nasty-vehicle",
   "metadata": {},
   "source": [
    "Rows and Columns represent different elements:\n",
    "\n",
    "- shape cmd = (3,3) matrix above\n",
    "     * first value = rows\n",
    "     * second value = columns"
   ]
  },
  {
   "cell_type": "markdown",
   "id": "floral-style",
   "metadata": {},
   "source": [
    "Some good tools to help us work with matrics.  \n",
    "* np.shape() find the shape is (rows,columns). Comes from numpy. \n",
    "* type() tells us the type of object that we are working with. From Python\n",
    "* print() prints in Python 3. (note this is different than Python 2)"
   ]
  },
  {
   "cell_type": "markdown",
   "id": "round-syndicate",
   "metadata": {},
   "source": [
    "Tuple: limited list that cannot change when encoded and arranged into an ordered sequence \n",
    "- ex: n-tuple = list of n elements"
   ]
  },
  {
   "cell_type": "code",
   "execution_count": null,
   "id": "thick-coordinator",
   "metadata": {},
   "outputs": [],
   "source": [
    "matrix_shape = np.shape(matrix) #Shape will tell us the dimension of the matrix.\n",
    "print(matrix)\n",
    "print(matrix_shape) # Print the the shape that we named A_shape\n",
    "print(type(matrix_shape)) # use type to help see what we are working with \n",
    "print(type(matrix_shape[0])) # Access first entry -> 1\n",
    "matrix_shape[0] + 4 # We can add the values of the shape to other numbers."
   ]
  },
  {
   "cell_type": "markdown",
   "id": "internal-moral",
   "metadata": {},
   "source": [
    "---\n",
    "_**Practice 1:**_ Read in the matrix $A = \\begin{bmatrix} 1 & 0 & 2 \\\\ 1 & 2 & 1 \\end{bmatrix} $"
   ]
  },
  {
   "cell_type": "markdown",
   "id": "occupied-flexibility",
   "metadata": {},
   "source": [
    "_**Solution:**_"
   ]
  },
  {
   "cell_type": "code",
   "execution_count": null,
   "id": "descending-volleyball",
   "metadata": {},
   "outputs": [],
   "source": [
    "A = np.array ([[1, 0, 2],\n",
    "              [1, 2, 1]])"
   ]
  },
  {
   "cell_type": "markdown",
   "id": "bulgarian-jacksonville",
   "metadata": {},
   "source": [
    "- Accessing main elements; rows and columns of the matrix displayed"
   ]
  },
  {
   "cell_type": "code",
   "execution_count": null,
   "id": "likely-application",
   "metadata": {},
   "outputs": [],
   "source": [
    "print(A[0])"
   ]
  },
  {
   "cell_type": "markdown",
   "id": "cutting-folder",
   "metadata": {},
   "source": [
    "Below is the $a_{21}$ entry. Math vs Python counting takes a bit of mental gymnastics."
   ]
  },
  {
   "cell_type": "code",
   "execution_count": null,
   "id": "other-cloud",
   "metadata": {},
   "outputs": [],
   "source": [
    "#a_21 entry\n",
    "A[0][1] "
   ]
  },
  {
   "cell_type": "code",
   "execution_count": null,
   "id": "athletic-final",
   "metadata": {},
   "outputs": [],
   "source": [
    "# : = Cycle through all the values for that row or column.\n",
    "A[:,1] "
   ]
  },
  {
   "cell_type": "code",
   "execution_count": null,
   "id": "naval-ukraine",
   "metadata": {},
   "outputs": [],
   "source": [
    "# extracting the first column. The.T is the transpose\n",
    "print(A.T[0])"
   ]
  },
  {
   "cell_type": "markdown",
   "id": "abstract-antique",
   "metadata": {},
   "source": [
    "Transpose: When the matrix is tipped on it's side\n",
    "\n",
    "- Row and column positions in the matrix are switched.\n",
    "\n",
    "- initial matrix: $B = \\begin{bmatrix} 1 & 1 \\\\ 2 & 0 \\\\ 1 & 2 \\end{bmatrix} $\n",
    "\n",
    "- denoted as $ \\mathbf{B}^T$.\n",
    "\n",
    "- https://en.wikipedia.org/wiki/Transpose"
   ]
  },
  {
   "cell_type": "markdown",
   "id": "hungry-assessment",
   "metadata": {},
   "source": [
    "$B^T = \\begin{bmatrix} 1 & 0 & 2 \\\\ 1 & 2 & 1 \\end{bmatrix} $"
   ]
  },
  {
   "cell_type": "code",
   "execution_count": null,
   "id": "balanced-personal",
   "metadata": {},
   "outputs": [],
   "source": [
    "# Print the initial matrix\n",
    "print(A) "
   ]
  },
  {
   "cell_type": "code",
   "execution_count": null,
   "id": "individual-fifth",
   "metadata": {},
   "outputs": [],
   "source": [
    "# Transpose the matrix\n",
    "print(A.T)"
   ]
  },
  {
   "cell_type": "markdown",
   "id": "social-darkness",
   "metadata": {},
   "source": [
    "---\n",
    "_**Practice 2:**_ Read in the matrix $A = \\begin{bmatrix} 4 & -1 & 2 \\\\ 4 & 2 & 1 \\end{bmatrix} $. Then\n",
    "1. Print just the first row.  \n",
    "2. Print the third column. \n",
    "3. Transpose the matrix.  \n",
    "\n",
    "**Don't forget to comment each line of your code**"
   ]
  },
  {
   "cell_type": "code",
   "execution_count": null,
   "id": "chemical-alert",
   "metadata": {},
   "outputs": [],
   "source": []
  },
  {
   "cell_type": "code",
   "execution_count": null,
   "id": "adjacent-touch",
   "metadata": {},
   "outputs": [],
   "source": []
  },
  {
   "cell_type": "code",
   "execution_count": null,
   "id": "signal-geneva",
   "metadata": {},
   "outputs": [],
   "source": []
  },
  {
   "cell_type": "code",
   "execution_count": null,
   "id": "defined-royal",
   "metadata": {},
   "outputs": [],
   "source": []
  },
  {
   "cell_type": "markdown",
   "id": "varied-force",
   "metadata": {},
   "source": [
    "---\n",
    "## **Matrix operations**\n",
    "\n",
    "Three different operations involving matrices  \n",
    "**Scalar multiplication**, **matrix multiplication**, and **matrix addition**."
   ]
  },
  {
   "cell_type": "markdown",
   "id": "prepared-dietary",
   "metadata": {},
   "source": [
    "### **Scalar multiplication**  \n",
    "**Scalar multiplication**:product of all of the entries of the matrix by a scalar value. "
   ]
  },
  {
   "cell_type": "code",
   "execution_count": null,
   "id": "backed-share",
   "metadata": {},
   "outputs": [],
   "source": [
    "A = np.array ([[2,1],\n",
    "              [1,1]])"
   ]
  },
  {
   "cell_type": "code",
   "execution_count": null,
   "id": "standard-disabled",
   "metadata": {},
   "outputs": [],
   "source": [
    "3 * A"
   ]
  },
  {
   "cell_type": "code",
   "execution_count": null,
   "id": "packed-superintendent",
   "metadata": {},
   "outputs": [],
   "source": [
    "3A #Wrong syntax, but still usable elswhere"
   ]
  },
  {
   "cell_type": "markdown",
   "id": "plastic-trauma",
   "metadata": {},
   "source": [
    "### **Matrix Addition**\n",
    "**Matrix addition**: binary operation of adding matrices by adding the corresponding entries together.  \n",
    "> **Note:** that the matrices must have the same shape.</i>"
   ]
  },
  {
   "cell_type": "code",
   "execution_count": null,
   "id": "given-macedonia",
   "metadata": {},
   "outputs": [],
   "source": [
    "C = np.array([[2, 3, 3, 0],[2, 9, 2, 0],[4, 1, 8, 1]])\n",
    "print(np.shape(C))\n",
    "D = np.array([[-1, 3, 2, 12],[3, 1, 2, 2],[2, 1, 1, 1]])\n",
    "print(np.shape(D))\n",
    "print(C,'\\n \\n', D) # Print the matrices with 2 new lines between them. "
   ]
  },
  {
   "cell_type": "code",
   "execution_count": null,
   "id": "revolutionary-medline",
   "metadata": {},
   "outputs": [],
   "source": [
    "E = C + D\n",
    "print(E)"
   ]
  },
  {
   "cell_type": "markdown",
   "id": "decent-circular",
   "metadata": {},
   "source": [
    "### **Matrix Multiplication**\n",
    "**Matrix multiplication** of matrices $ \\mathbf{A} $ and $ \\mathbf{B} $ is a third matrix $ \\mathbf{C} $, i.e. $ \\mathbf{C} = \\mathbf{AB} $ , where $ \\mathbf{c}_{ij} $ is the dot  \n",
    "product of row $i$ of $ \\mathbf{A} $ and column $ \\mathbf{j} $ of $ \\mathbf{B} $. \n",
    "\n",
    "Multiply matrices they must have a compatable shape.  \n",
    "- Number columns of the left matrix in the product must match the number of rows of the right matrix in the product.\n",
    "\n",
    " $$\\begin{array}{c} \\begin{bmatrix} 1 & -1 & 1\\\\ 4 & 2 & 2 \\end{bmatrix} \\\\ 2x3 \\end{array} \\begin{array}{c}\\begin{bmatrix} 3 & 2 \\\\ -1 & 1 \\\\ 4 & 2  \\end{bmatrix} \\\\ 3 x 2 \\end{array}.$$"
   ]
  },
  {
   "cell_type": "markdown",
   "id": "standard-investigator",
   "metadata": {},
   "source": [
    "---\n",
    "**NOTATION WARNING**  \n",
    "Using * to multiply **will not** give use the matrix product. It is a different product.  \n"
   ]
  },
  {
   "cell_type": "code",
   "execution_count": null,
   "id": "directed-folks",
   "metadata": {},
   "outputs": [],
   "source": [
    "print('BAD EXAMPLE')\n",
    "A * A # AHHHHHHHHHHHHHHH what!!?!? Hadamard product. Not the matrix product."
   ]
  },
  {
   "cell_type": "markdown",
   "id": "unsigned-phenomenon",
   "metadata": {},
   "source": [
    "---\n",
    "---\n",
    "_**Worked Example 1:**_ Multiply $A = \\begin{bmatrix} 1 & -1 & 1\\\\ 4 & 2 & 2 \\end{bmatrix} $ by $B = \\begin{bmatrix} 3 & 2 \\\\ -1 & 1 \\\\ 4 & 2  \\end{bmatrix} $."
   ]
  },
  {
   "cell_type": "code",
   "execution_count": null,
   "id": "intensive-console",
   "metadata": {},
   "outputs": [],
   "source": [
    "a = np.array([[1,-1,1],[4,2,2]])"
   ]
  },
  {
   "cell_type": "code",
   "execution_count": null,
   "id": "southwest-reverse",
   "metadata": {},
   "outputs": [],
   "source": [
    "print(a)"
   ]
  },
  {
   "cell_type": "code",
   "execution_count": null,
   "id": "violent-steam",
   "metadata": {},
   "outputs": [],
   "source": [
    "print(np.shape(a))"
   ]
  },
  {
   "cell_type": "markdown",
   "id": "cooperative-tours",
   "metadata": {},
   "source": [
    "$A$ is a 2$x$3 matrix. So multiply by a 3$x n$ matrix."
   ]
  },
  {
   "cell_type": "code",
   "execution_count": null,
   "id": "scientific-customer",
   "metadata": {},
   "outputs": [],
   "source": [
    "b = np.array([[3,2], [-1,1],[4,2]])"
   ]
  },
  {
   "cell_type": "code",
   "execution_count": null,
   "id": "alternative-comment",
   "metadata": {},
   "outputs": [],
   "source": [
    "print(b)"
   ]
  },
  {
   "cell_type": "code",
   "execution_count": null,
   "id": "unique-crowd",
   "metadata": {},
   "outputs": [],
   "source": [
    "print(np.shape(b))"
   ]
  },
  {
   "cell_type": "markdown",
   "id": "objective-warehouse",
   "metadata": {},
   "source": [
    "Matrix product: $2x2$."
   ]
  },
  {
   "cell_type": "code",
   "execution_count": null,
   "id": "marine-benjamin",
   "metadata": {},
   "outputs": [],
   "source": [
    "np.dot(a,b)"
   ]
  },
  {
   "cell_type": "markdown",
   "id": "miniature-nowhere",
   "metadata": {},
   "source": [
    "So, $\\begin{bmatrix} 1 & -1 & 1\\\\ 4 & 2 & 2 \\end{bmatrix} \\begin{bmatrix} 3 & 2 \\\\ -1 & 1 \\\\ 4 & 2  \\end{bmatrix} = \\begin{bmatrix} 8 & 3 \\\\ -18 & 14 \\end{bmatrix} $"
   ]
  },
  {
   "cell_type": "markdown",
   "id": "bigger-indication",
   "metadata": {},
   "source": [
    "---\n",
    "---\n",
    "_**Practice 3:**_ Multiply $A = \\begin{bmatrix} 1 & -1 \\\\ 4 & 2 \\end{bmatrix} $ by $B = \\begin{bmatrix} 3 & 2 \\\\ -1 & 1 \\end{bmatrix} $."
   ]
  },
  {
   "cell_type": "markdown",
   "id": "artificial-medline",
   "metadata": {},
   "source": [
    "_**Solution:**_"
   ]
  },
  {
   "cell_type": "code",
   "execution_count": null,
   "id": "satellite-irrigation",
   "metadata": {},
   "outputs": [],
   "source": [
    "np.dot(a,b)"
   ]
  },
  {
   "cell_type": "markdown",
   "id": "senior-novelty",
   "metadata": {},
   "source": [
    "What does Python do if the dimensions are off?  \n",
    "Let's try and multiply $C = \\begin{bmatrix} 1 & -1 \\\\ 4 & 2 \\end{bmatrix} $ by $D = \\begin{bmatrix} 3 & 2 \\\\ -1 & 1 \\\\ 4 & 2  \\end{bmatrix} $."
   ]
  },
  {
   "cell_type": "code",
   "execution_count": null,
   "id": "stuck-estimate",
   "metadata": {},
   "outputs": [],
   "source": [
    "C = np.array([[1, -1], [4,2]])\n",
    "D = np.array([[3, 2], [-1, 1],[4,2]])"
   ]
  },
  {
   "cell_type": "code",
   "execution_count": null,
   "id": "appointed-pierce",
   "metadata": {},
   "outputs": [],
   "source": [
    "np.dot(C,D.T)"
   ]
  },
  {
   "cell_type": "code",
   "execution_count": null,
   "id": "velvet-marriage",
   "metadata": {},
   "outputs": [],
   "source": []
  }
 ],
 "metadata": {
  "kernelspec": {
   "display_name": "Python 3",
   "language": "python",
   "name": "python3"
  },
  "language_info": {
   "codemirror_mode": {
    "name": "ipython",
    "version": 3
   },
   "file_extension": ".py",
   "mimetype": "text/x-python",
   "name": "python",
   "nbconvert_exporter": "python",
   "pygments_lexer": "ipython3",
   "version": "3.6.9"
  }
 },
 "nbformat": 4,
 "nbformat_minor": 5
}
