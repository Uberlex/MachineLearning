{
 "cells": [
  {
   "cell_type": "markdown",
   "id": "greenhouse-tunnel",
   "metadata": {},
   "source": [
    "# Using `rrccml` For Neural Networks"
   ]
  },
  {
   "cell_type": "markdown",
   "id": "alive-mississippi",
   "metadata": {},
   "source": [
    "## Step 1: Load Libraries"
   ]
  },
  {
   "cell_type": "code",
   "execution_count": 1,
   "id": "falling-vietnamese",
   "metadata": {},
   "outputs": [],
   "source": [
    "import numpy as np\n",
    "import pandas as pd\n",
    "import matplotlib.pyplot as plt\n",
    "from rrccml.Neural_Net import network as net\n",
    "from rrccml.Neural_Net import layer as lyr\n",
    "from rrccml.Neural_Net import activation as act_fun"
   ]
  },
  {
   "cell_type": "markdown",
   "id": "hawaiian-yahoo",
   "metadata": {},
   "source": [
    "## Step 2: Read and Clean Data"
   ]
  },
  {
   "cell_type": "code",
   "execution_count": 2,
   "id": "fossil-skirt",
   "metadata": {},
   "outputs": [
    {
     "data": {
      "text/html": [
       "<div>\n",
       "<style scoped>\n",
       "    .dataframe tbody tr th:only-of-type {\n",
       "        vertical-align: middle;\n",
       "    }\n",
       "\n",
       "    .dataframe tbody tr th {\n",
       "        vertical-align: top;\n",
       "    }\n",
       "\n",
       "    .dataframe thead th {\n",
       "        text-align: right;\n",
       "    }\n",
       "</style>\n",
       "<table border=\"1\" class=\"dataframe\">\n",
       "  <thead>\n",
       "    <tr style=\"text-align: right;\">\n",
       "      <th></th>\n",
       "      <th>SepalLengthCm</th>\n",
       "      <th>SepalWidthCm</th>\n",
       "      <th>PetalLengthCm</th>\n",
       "      <th>PetalWidthCm</th>\n",
       "      <th>Species</th>\n",
       "    </tr>\n",
       "  </thead>\n",
       "  <tbody>\n",
       "    <tr>\n",
       "      <th>0</th>\n",
       "      <td>5.1</td>\n",
       "      <td>3.5</td>\n",
       "      <td>1.4</td>\n",
       "      <td>0.2</td>\n",
       "      <td>Iris-setosa</td>\n",
       "    </tr>\n",
       "    <tr>\n",
       "      <th>1</th>\n",
       "      <td>4.9</td>\n",
       "      <td>3.0</td>\n",
       "      <td>1.4</td>\n",
       "      <td>0.2</td>\n",
       "      <td>Iris-setosa</td>\n",
       "    </tr>\n",
       "    <tr>\n",
       "      <th>2</th>\n",
       "      <td>4.7</td>\n",
       "      <td>3.2</td>\n",
       "      <td>1.3</td>\n",
       "      <td>0.2</td>\n",
       "      <td>Iris-setosa</td>\n",
       "    </tr>\n",
       "    <tr>\n",
       "      <th>3</th>\n",
       "      <td>4.6</td>\n",
       "      <td>3.1</td>\n",
       "      <td>1.5</td>\n",
       "      <td>0.2</td>\n",
       "      <td>Iris-setosa</td>\n",
       "    </tr>\n",
       "    <tr>\n",
       "      <th>4</th>\n",
       "      <td>5.0</td>\n",
       "      <td>3.6</td>\n",
       "      <td>1.4</td>\n",
       "      <td>0.2</td>\n",
       "      <td>Iris-setosa</td>\n",
       "    </tr>\n",
       "  </tbody>\n",
       "</table>\n",
       "</div>"
      ],
      "text/plain": [
       "   SepalLengthCm  SepalWidthCm  PetalLengthCm  PetalWidthCm      Species\n",
       "0            5.1           3.5            1.4           0.2  Iris-setosa\n",
       "1            4.9           3.0            1.4           0.2  Iris-setosa\n",
       "2            4.7           3.2            1.3           0.2  Iris-setosa\n",
       "3            4.6           3.1            1.5           0.2  Iris-setosa\n",
       "4            5.0           3.6            1.4           0.2  Iris-setosa"
      ]
     },
     "execution_count": 2,
     "metadata": {},
     "output_type": "execute_result"
    }
   ],
   "source": [
    "# COPIED FROM ADAMS LECTURE TODAY\n",
    "\n",
    "# Original data\n",
    "DATA = pd.read_csv(\"Iris.csv\")#, names = ['SepalLengthCm', 'SepalWidthCm', 'PetalLengthCm', 'PetalWidthCm', 'Species'] )\n",
    "DATA = DATA[['SepalLengthCm', 'SepalWidthCm', 'PetalLengthCm', 'PetalWidthCm', 'Species']]\n",
    "DATA.head()"
   ]
  },
  {
   "cell_type": "code",
   "execution_count": 3,
   "id": "empty-honduras",
   "metadata": {},
   "outputs": [],
   "source": [
    "# Make an index for different binary categories .\n",
    "mapping = {\"Iris-setosa\": 0, \"Iris-versicolor\": 1, \"Iris-virginica\" : 1}\n",
    "\n",
    "# Map Setosa to -1 and the two other flowers to 1.\n",
    "DATA['Species'] = [mapping[item] for item in DATA['Species']]\n",
    "\n",
    "DATA = DATA.sample(frac=1)\n",
    "\n",
    "X = DATA[['SepalLengthCm', 'SepalWidthCm', 'PetalLengthCm', 'PetalWidthCm']]\n",
    "Y = DATA[['Species']]\n",
    "\n",
    "X_train = X.iloc[ : 100] \n",
    "Y_train = Y.iloc[ : 100]\n",
    "\n",
    "X_test = X.iloc[100 : ]\n",
    "Y_test = Y.iloc[100 : ]"
   ]
  },
  {
   "cell_type": "markdown",
   "id": "accessory-chance",
   "metadata": {},
   "source": [
    "## Step 3: Define Error Function"
   ]
  },
  {
   "cell_type": "code",
   "execution_count": 4,
   "id": "beautiful-standing",
   "metadata": {},
   "outputs": [],
   "source": [
    "def error_func(actual, expected):\n",
    "    return (actual - expected)"
   ]
  },
  {
   "cell_type": "markdown",
   "id": "palestinian-terrorism",
   "metadata": {},
   "source": [
    "## Step 4: Initialize Network with Data"
   ]
  },
  {
   "cell_type": "code",
   "execution_count": 67,
   "id": "curious-utility",
   "metadata": {},
   "outputs": [],
   "source": [
    "iris_net = net.Network(X_train, Y_train)"
   ]
  },
  {
   "cell_type": "markdown",
   "id": "internal-bolivia",
   "metadata": {},
   "source": [
    "## Step 5: Add Layers"
   ]
  },
  {
   "cell_type": "code",
   "execution_count": 68,
   "id": "rising-steering",
   "metadata": {},
   "outputs": [],
   "source": [
    "# Hidden Layer 1\n",
    "iris_net.add_layer(lyr.Connected(10))\n",
    "\n",
    "# Hidden Layer 2\n",
    "iris_net.add_layer(lyr.Connected(3))\n",
    "\n",
    "# Output Layer\n",
    "iris_net.add_layer(lyr.Connected(1))"
   ]
  },
  {
   "cell_type": "markdown",
   "id": "neutral-bryan",
   "metadata": {},
   "source": [
    "## Step 6: Train the Network"
   ]
  },
  {
   "cell_type": "code",
   "execution_count": 77,
   "id": "terminal-measurement",
   "metadata": {},
   "outputs": [
    {
     "name": "stdout",
     "output_type": "stream",
     "text": [
      "This print is here because the train function returns a diagnostic and I don't want it to print here.\n"
     ]
    }
   ],
   "source": [
    "iris_net.compile()\n",
    "\n",
    "# NOTE x_val, y_val, and eval_function are all just place holders for now AND DO NOTHING\n",
    "iris_net.train(x_val=1, y_val=1, epochs=5000, cost_function=error_func, eval_function=None, learning_rate=.1)\n",
    "print(\"This print is here because the train function returns a diagnostic and I don't want it to print here.\")"
   ]
  },
  {
   "cell_type": "markdown",
   "id": "pacific-remedy",
   "metadata": {},
   "source": [
    "## Step 7: Summarise Process"
   ]
  },
  {
   "cell_type": "code",
   "execution_count": 78,
   "id": "necessary-philosophy",
   "metadata": {},
   "outputs": [
    {
     "data": {
      "image/png": "[encoded data removed]",
      "text/plain": [
       "<Figure size 432x288 with 1 Axes>"
      ]
     },
     "metadata": {
      "needs_background": "light"
     },
     "output_type": "display_data"
    }
   ],
   "source": [
    "# COPIED FROM ADAMS LECTURE TODAY\n",
    "history = np.array(iris_net.history)\n",
    "\n",
    "plt.scatter(history[:, 0], history[:, 1], marker='.')\n",
    "plt.xlabel(\"Epochs\")\n",
    "plt.ylabel(\"Score\")\n",
    "plt.show()"
   ]
  },
  {
   "cell_type": "code",
   "execution_count": null,
   "id": "specific-recommendation",
   "metadata": {},
   "outputs": [],
   "source": []
  },
  {
   "cell_type": "code",
   "execution_count": 79,
   "id": "applied-workstation",
   "metadata": {},
   "outputs": [],
   "source": [
    "W1,W2,W3 = iris_net.get_weights()"
   ]
  },
  {
   "cell_type": "code",
   "execution_count": 80,
   "id": "normal-instruction",
   "metadata": {},
   "outputs": [
    {
     "name": "stdout",
     "output_type": "stream",
     "text": [
      "Got [11.] wrong out of 50\n",
      "[78.] %\n"
     ]
    }
   ],
   "source": [
    "error = 0\n",
    "for x,y in zip(np.array(X_test), np.array(Y_test)):\n",
    "    prediction = act_fun.s(np.dot(act_fun.s(np.dot(act_fun.s(np.dot(x,W1)),W2)),W3))\n",
    "    error += np.round(np.abs(prediction -  y))\n",
    "    \n",
    "print(f\"Got {error} wrong out of {len(Y_test)}\")\n",
    "print(100 * (len(Y_test) - error)/len(Y_test),\"%\")"
   ]
  },
  {
   "cell_type": "markdown",
   "id": "saved-drama",
   "metadata": {},
   "source": []
  }
 ],
 "metadata": {
  "kernelspec": {
   "display_name": "Python 3",
   "language": "python",
   "name": "python3"
  },
  "language_info": {
   "codemirror_mode": {
    "name": "ipython",
    "version": 3
   },
   "file_extension": ".py",
   "mimetype": "text/x-python",
   "name": "python",
   "nbconvert_exporter": "python",
   "pygments_lexer": "ipython3",
   "version": "3.6.9"
  }
 },
 "nbformat": 4,
 "nbformat_minor": 5
}
